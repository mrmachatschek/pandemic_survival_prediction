{
 "cells": [
  {
   "cell_type": "markdown",
   "metadata": {},
   "source": [
    "# Model Comparison\n",
    "\n",
    "I created 2 classes, one for the dataset, one for the model.\n",
    "These are the steps to run successfully the training, testing and prediction.\n",
    "\n",
    " 1. Load datasets\n",
    " 2. Apply transformations and feature engineering to the dataset (optional)\n",
    "     1. Choose variables to be used for training the model (optional)\n",
    " 4. Load model from SKLearn\n",
    " 5. Run the simple test\n",
    " \n",
    " Below I created an example with the model that I had to test, Support Vector Machine.\n",
    " \n",
    " The shape of the dataset is the following:\n",
    " \n",
    "1. `'Family_Case_ID'`\n",
    "2. `'Severity'`\n",
    "3. `'Birthday_year'`\n",
    "4. `'Parents or siblings infected'`\n",
    "5. `'Wife/Husband or children infected'`\n",
    "7. `'Medical_Expenses_Family'`\n",
    "8. `'Medical_Tent_A'`\n",
    "9. `'Medical_Tent_B'`\n",
    "10. `'Medical_Tent_C'`\n",
    "11. `'Medical_Tent_D'`\n",
    "12. `'Medical_Tent_E'`\n",
    "13. `'Medical_Tent_F'`\n",
    "14. `'Medical_Tent_G'`\n",
    "15. `'Medical_Tent_T'`\n",
    "16. `'Medical_Tent_n/a'`\n",
    "17. `'City_Albuquerque'`\n",
    "18. `'City_Santa Fe'`\n",
    "19. `'City_Taos'`\n",
    "20. `'Gender_M'`\n",
    "21. `'family_size'`\n",
    "22. `'Sev_by_city'`: Average severity in the city of the patient.\n",
    "23. `'Sev_by_tent'`: Average severity in the medical tent of the patient.\n",
    "24. `'Sev_by_gender'`: Average severity whithin the gender of the patient.\n",
    "25. `'Sev_family'`: Average severity in the family of the patient.\n",
    "26. `'spending_vs_severity'`: Medical Expenses Family / Patient's Severity\n",
    "27. `'spending_family_member'`: Medical Expenses Family / Number of cases in the family\n",
    "28. `'severity_against_avg_city'`: Patient's Severity / Sev_by_city\n",
    "29. `'severity_against_avg_tent'`: Patient's Severity / Sev_by_tent\n",
    "30. `'severity_against_avg_gender'`: Patient's Severity / Sev_by_gender\n",
    "31. `'spending_family_severity'`: Patient's Severity / Sev_family\n"
   ]
  },
  {
   "cell_type": "code",
   "execution_count": null,
   "metadata": {},
   "outputs": [],
   "source": [
    "from dataset import Dataset\n",
    "from model import Model"
   ]
  },
  {
   "cell_type": "markdown",
   "metadata": {},
   "source": [
    "## First model - Support Vector Machine - Alejandro"
   ]
  },
  {
   "cell_type": "markdown",
   "metadata": {},
   "source": [
    "### Step 1: Load datasets"
   ]
  },
  {
   "cell_type": "code",
   "execution_count": null,
   "metadata": {
    "scrolled": true
   },
   "outputs": [],
   "source": [
    "dataset = Dataset()            # Loads the preprocessed dataset\n",
    "train_set = dataset.train_data # Training set without labels (train.csv)\n",
    "target = dataset.target        # Labels for training set     (train.csv[Deceased])\n",
    "test_set = dataset.test_data   # Unlabeled test set          (test.csv)\n",
    "\n",
    "train_set.describe()"
   ]
  },
  {
   "cell_type": "markdown",
   "metadata": {},
   "source": [
    "### Step 2: Apply transformations and select variables"
   ]
  },
  {
   "cell_type": "code",
   "execution_count": null,
   "metadata": {},
   "outputs": [],
   "source": [
    "from sklearn.preprocessing import RobustScaler\n",
    "\n",
    "selected_variables_SVC = [\n",
    "    'Severity',\n",
    "    'Gender_M',\n",
    "    'City_Albuquerque',\n",
    "    'City_Santa Fe',\n",
    "    \"severity_against_avg_gender\",\n",
    "    'Medical_Tent_n/a',\n",
    "    'spending_family_member',\n",
    "    'family_size',\n",
    "    'Sev_family'\n",
    "]\n",
    "\n",
    "scaler = MinMaxScaler().fit(test_set[selected_variables_SVC])\n",
    "train_set[selected_variables_SVC] = scaler.transform(train_set[selected_variables_SVC])\n",
    "test_set[selected_variables_SVC] = scaler.transform(test_set[selected_variables_SVC])"
   ]
  },
  {
   "cell_type": "markdown",
   "metadata": {},
   "source": [
    "### Step 3: Load model from SKLearn"
   ]
  },
  {
   "cell_type": "code",
   "execution_count": null,
   "metadata": {},
   "outputs": [],
   "source": [
    "from sklearn import svm\n",
    "\n",
    "# Create classifier from SciKitLearn\n",
    "svm_model = svm.NuSVC()"
   ]
  },
  {
   "cell_type": "markdown",
   "metadata": {},
   "source": [
    "### Step 4: Run model"
   ]
  },
  {
   "cell_type": "code",
   "execution_count": null,
   "metadata": {},
   "outputs": [],
   "source": [
    "model = Model(model     = svm_model,              # Initialized classifier model from SKLearn\n",
    "              variables = selected_variables_SVC, # Subset of variables from data to be used for training\n",
    "                                                  # If variables=None, then all variables in set are used\n",
    "              \n",
    "              train_set = train_set,              # Samples X for training and validating\n",
    "              target    = target,                 # Samples Y for training and validating\n",
    "              test_set  = test_set                # Unlabeled samples for creating prediction\n",
    "              )                 \n",
    "\n",
    "model.run_model(path=\"results/svc_results.csv\")\n",
    "model.train_data"
   ]
  },
  {
   "cell_type": "code",
   "execution_count": null,
   "metadata": {},
   "outputs": [],
   "source": []
  }
 ],
 "metadata": {
  "kernelspec": {
   "display_name": "Python 3",
   "language": "python",
   "name": "python3"
  },
  "language_info": {
   "codemirror_mode": {
    "name": "ipython",
    "version": 3
   },
   "file_extension": ".py",
   "mimetype": "text/x-python",
   "name": "python",
   "nbconvert_exporter": "python",
   "pygments_lexer": "ipython3",
   "version": "3.7.6"
  }
 },
 "nbformat": 4,
 "nbformat_minor": 4
}
