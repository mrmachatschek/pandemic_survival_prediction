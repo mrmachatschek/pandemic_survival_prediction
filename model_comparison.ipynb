{
 "cells": [
  {
   "cell_type": "markdown",
   "metadata": {},
   "source": [
    "# Model Comparison\n",
    "\n",
    "I created 2 classes, one for the dataset, one for the model.\n",
    "These are the steps to run successfully the training, testing and prediction.\n",
    "\n",
    " 1. Load datasets\n",
    " 2. Apply transformations and feature engineering to the dataset (optional)\n",
    "     1. Choose variables to be used for training the model (optional)\n",
    " 4. Load model from SKLearn\n",
    " 5. Run the simple test\n",
    " \n",
    " Below I created an example with the model that I had to test, Support Vector Machine.\n",
    " \n",
    " The shape of the dataset is the following:\n",
    " \n",
    "1. `'Family_Case_ID'`\n",
    "2. `'Severity'`\n",
    "3. `'Birthday_year'`\n",
    "4. `'Parents or siblings infected'`\n",
    "5. `'Wife/Husband or children infected'`\n",
    "7. `'Medical_Expenses_Family'`\n",
    "8. `'Medical_Tent_A'`\n",
    "9. `'Medical_Tent_B'`\n",
    "10. `'Medical_Tent_C'`\n",
    "11. `'Medical_Tent_D'`\n",
    "12. `'Medical_Tent_E'`\n",
    "13. `'Medical_Tent_F'`\n",
    "14. `'Medical_Tent_G'`\n",
    "15. `'Medical_Tent_T'`\n",
    "16. `'Medical_Tent_n/a'`\n",
    "17. `'City_Albuquerque'`\n",
    "18. `'City_Santa Fe'`\n",
    "19. `'City_Taos'`\n",
    "20. `'Gender_M'`\n",
    "21. `'family_size'`\n",
    "22. `'Sev_by_city'`: Average severity in the city of the patient.\n",
    "23. `'Sev_by_tent'`: Average severity in the medical tent of the patient.\n",
    "24. `'Sev_by_gender'`: Average severity whithin the gender of the patient.\n",
    "25. `'Sev_family'`: Average severity in the family of the patient.\n",
    "26. `'spending_vs_severity'`: Medical Expenses Family / Patient's Severity\n",
    "27. `'spending_family_member'`: Medical Expenses Family / Number of cases in the family\n",
    "28. `'severity_against_avg_city'`: Patient's Severity / Sev_by_city\n",
    "29. `'severity_against_avg_tent'`: Patient's Severity / Sev_by_tent\n",
    "30. `'severity_against_avg_gender'`: Patient's Severity / Sev_by_gender\n",
    "31. `'spending_family_severity'`: Patient's Severity / Sev_family\n"
   ]
  },
  {
   "cell_type": "code",
   "execution_count": 1,
   "metadata": {},
   "outputs": [],
   "source": [
    "from dataset import Dataset\n",
    "from model import Model"
   ]
  },
  {
   "cell_type": "markdown",
   "metadata": {},
   "source": [
    "## First model - Support Vector Machine - Alejandro"
   ]
  },
  {
   "cell_type": "markdown",
   "metadata": {},
   "source": [
    "### Step 1: Load datasets"
   ]
  },
  {
   "cell_type": "code",
   "execution_count": 2,
   "metadata": {
    "scrolled": true
   },
   "outputs": [
    {
     "output_type": "execute_result",
     "data": {
      "text/plain": "       Family_Case_ID    Severity  Birthday_year  \\\ncount      898.000000  898.000000     898.000000   \nmean     14286.119154    2.316258    1597.824053   \nstd      25443.036379    0.832842     792.720095   \nmin        345.000000    1.000000      -1.000000   \n25%       8195.000000    2.000000    1966.000000   \n50%      13587.500000    3.000000    1988.000000   \n75%      18891.000000    3.000000    1998.000000   \nmax     742836.000000    3.000000    2019.000000   \n\n       Parents or siblings infected  Wife/Husband or children infected  \\\ncount                    898.000000                         898.000000   \nmean                       0.380846                           0.522272   \nstd                        0.803941                           1.099333   \nmin                        0.000000                           0.000000   \n25%                        0.000000                           0.000000   \n50%                        0.000000                           0.000000   \n75%                        0.000000                           1.000000   \nmax                        6.000000                           8.000000   \n\n       Medical_Expenses_Family  Sev_by_city  Sev_by_tent  Sev_by_gender  \\\ncount               898.000000   898.000000   898.000000     898.000000   \nmean                892.749443     2.316258     2.316258       2.313653   \nstd                1385.917990     0.255180     0.615844       0.106050   \nmin                   0.000000     1.893491     1.000000       2.169811   \n25%                 221.000000     2.354391     2.623932       2.169811   \n50%                 405.000000     2.354391     2.623932       2.391753   \n75%                 857.750000     2.354391     2.623932       2.391753   \nmax               14345.000000     2.900000     3.000000       2.391753   \n\n       Sev_family  ...  City_Santa Fe   City_Taos    Gender_M  family_size  \\\ncount  898.000000  ...     898.000000  898.000000  898.000000   898.000000   \nmean     2.316258  ...       0.722717    0.089087    0.648107     1.826281   \nstd      0.825019  ...       0.447907    0.285028    0.477827     1.369723   \nmin      1.000000  ...       0.000000    0.000000    0.000000     1.000000   \n25%      2.000000  ...       0.000000    0.000000    0.000000     1.000000   \n50%      3.000000  ...       1.000000    0.000000    1.000000     1.000000   \n75%      3.000000  ...       1.000000    0.000000    1.000000     2.000000   \nmax      3.000000  ...       1.000000    1.000000    1.000000     7.000000   \n\n       spending_vs_severity  spending_family_member  \\\ncount            898.000000              898.000000   \nmean             692.063103              550.403471   \nstd             1428.606552              997.077121   \nmin                0.000000                0.000000   \n25%               73.666667              203.000000   \n50%              173.000000              228.000000   \n75%              573.000000              553.750000   \nmax            14345.000000            14345.000000   \n\n       severity_against_avg_city  severity_against_avg_tent  \\\ncount                 898.000000                 898.000000   \nmean                    1.000000                   1.000000   \nstd                     0.359305                   0.240359   \nmin                     0.344828                   0.381107   \n25%                     0.849476                   0.762215   \n50%                     1.034483                   1.143322   \n75%                     1.274215                   1.143322   \nmax                     1.584375                   2.898305   \n\n       severity_against_avg_gender  spending_family_severity  \ncount                   898.000000                898.000000  \nmean                      1.001201                430.066268  \nstd                       0.359250               1021.963995  \nmin                       0.418103                  0.000000  \n25%                       0.836207                 70.000000  \n50%                       1.254310                 81.000000  \n75%                       1.254310                343.000000  \nmax                       1.382609              14345.000000  \n\n[8 rows x 30 columns]",
      "text/html": "<div>\n<style scoped>\n    .dataframe tbody tr th:only-of-type {\n        vertical-align: middle;\n    }\n\n    .dataframe tbody tr th {\n        vertical-align: top;\n    }\n\n    .dataframe thead th {\n        text-align: right;\n    }\n</style>\n<table border=\"1\" class=\"dataframe\">\n  <thead>\n    <tr style=\"text-align: right;\">\n      <th></th>\n      <th>Family_Case_ID</th>\n      <th>Severity</th>\n      <th>Birthday_year</th>\n      <th>Parents or siblings infected</th>\n      <th>Wife/Husband or children infected</th>\n      <th>Medical_Expenses_Family</th>\n      <th>Sev_by_city</th>\n      <th>Sev_by_tent</th>\n      <th>Sev_by_gender</th>\n      <th>Sev_family</th>\n      <th>...</th>\n      <th>City_Santa Fe</th>\n      <th>City_Taos</th>\n      <th>Gender_M</th>\n      <th>family_size</th>\n      <th>spending_vs_severity</th>\n      <th>spending_family_member</th>\n      <th>severity_against_avg_city</th>\n      <th>severity_against_avg_tent</th>\n      <th>severity_against_avg_gender</th>\n      <th>spending_family_severity</th>\n    </tr>\n  </thead>\n  <tbody>\n    <tr>\n      <td>count</td>\n      <td>898.000000</td>\n      <td>898.000000</td>\n      <td>898.000000</td>\n      <td>898.000000</td>\n      <td>898.000000</td>\n      <td>898.000000</td>\n      <td>898.000000</td>\n      <td>898.000000</td>\n      <td>898.000000</td>\n      <td>898.000000</td>\n      <td>...</td>\n      <td>898.000000</td>\n      <td>898.000000</td>\n      <td>898.000000</td>\n      <td>898.000000</td>\n      <td>898.000000</td>\n      <td>898.000000</td>\n      <td>898.000000</td>\n      <td>898.000000</td>\n      <td>898.000000</td>\n      <td>898.000000</td>\n    </tr>\n    <tr>\n      <td>mean</td>\n      <td>14286.119154</td>\n      <td>2.316258</td>\n      <td>1597.824053</td>\n      <td>0.380846</td>\n      <td>0.522272</td>\n      <td>892.749443</td>\n      <td>2.316258</td>\n      <td>2.316258</td>\n      <td>2.313653</td>\n      <td>2.316258</td>\n      <td>...</td>\n      <td>0.722717</td>\n      <td>0.089087</td>\n      <td>0.648107</td>\n      <td>1.826281</td>\n      <td>692.063103</td>\n      <td>550.403471</td>\n      <td>1.000000</td>\n      <td>1.000000</td>\n      <td>1.001201</td>\n      <td>430.066268</td>\n    </tr>\n    <tr>\n      <td>std</td>\n      <td>25443.036379</td>\n      <td>0.832842</td>\n      <td>792.720095</td>\n      <td>0.803941</td>\n      <td>1.099333</td>\n      <td>1385.917990</td>\n      <td>0.255180</td>\n      <td>0.615844</td>\n      <td>0.106050</td>\n      <td>0.825019</td>\n      <td>...</td>\n      <td>0.447907</td>\n      <td>0.285028</td>\n      <td>0.477827</td>\n      <td>1.369723</td>\n      <td>1428.606552</td>\n      <td>997.077121</td>\n      <td>0.359305</td>\n      <td>0.240359</td>\n      <td>0.359250</td>\n      <td>1021.963995</td>\n    </tr>\n    <tr>\n      <td>min</td>\n      <td>345.000000</td>\n      <td>1.000000</td>\n      <td>-1.000000</td>\n      <td>0.000000</td>\n      <td>0.000000</td>\n      <td>0.000000</td>\n      <td>1.893491</td>\n      <td>1.000000</td>\n      <td>2.169811</td>\n      <td>1.000000</td>\n      <td>...</td>\n      <td>0.000000</td>\n      <td>0.000000</td>\n      <td>0.000000</td>\n      <td>1.000000</td>\n      <td>0.000000</td>\n      <td>0.000000</td>\n      <td>0.344828</td>\n      <td>0.381107</td>\n      <td>0.418103</td>\n      <td>0.000000</td>\n    </tr>\n    <tr>\n      <td>25%</td>\n      <td>8195.000000</td>\n      <td>2.000000</td>\n      <td>1966.000000</td>\n      <td>0.000000</td>\n      <td>0.000000</td>\n      <td>221.000000</td>\n      <td>2.354391</td>\n      <td>2.623932</td>\n      <td>2.169811</td>\n      <td>2.000000</td>\n      <td>...</td>\n      <td>0.000000</td>\n      <td>0.000000</td>\n      <td>0.000000</td>\n      <td>1.000000</td>\n      <td>73.666667</td>\n      <td>203.000000</td>\n      <td>0.849476</td>\n      <td>0.762215</td>\n      <td>0.836207</td>\n      <td>70.000000</td>\n    </tr>\n    <tr>\n      <td>50%</td>\n      <td>13587.500000</td>\n      <td>3.000000</td>\n      <td>1988.000000</td>\n      <td>0.000000</td>\n      <td>0.000000</td>\n      <td>405.000000</td>\n      <td>2.354391</td>\n      <td>2.623932</td>\n      <td>2.391753</td>\n      <td>3.000000</td>\n      <td>...</td>\n      <td>1.000000</td>\n      <td>0.000000</td>\n      <td>1.000000</td>\n      <td>1.000000</td>\n      <td>173.000000</td>\n      <td>228.000000</td>\n      <td>1.034483</td>\n      <td>1.143322</td>\n      <td>1.254310</td>\n      <td>81.000000</td>\n    </tr>\n    <tr>\n      <td>75%</td>\n      <td>18891.000000</td>\n      <td>3.000000</td>\n      <td>1998.000000</td>\n      <td>0.000000</td>\n      <td>1.000000</td>\n      <td>857.750000</td>\n      <td>2.354391</td>\n      <td>2.623932</td>\n      <td>2.391753</td>\n      <td>3.000000</td>\n      <td>...</td>\n      <td>1.000000</td>\n      <td>0.000000</td>\n      <td>1.000000</td>\n      <td>2.000000</td>\n      <td>573.000000</td>\n      <td>553.750000</td>\n      <td>1.274215</td>\n      <td>1.143322</td>\n      <td>1.254310</td>\n      <td>343.000000</td>\n    </tr>\n    <tr>\n      <td>max</td>\n      <td>742836.000000</td>\n      <td>3.000000</td>\n      <td>2019.000000</td>\n      <td>6.000000</td>\n      <td>8.000000</td>\n      <td>14345.000000</td>\n      <td>2.900000</td>\n      <td>3.000000</td>\n      <td>2.391753</td>\n      <td>3.000000</td>\n      <td>...</td>\n      <td>1.000000</td>\n      <td>1.000000</td>\n      <td>1.000000</td>\n      <td>7.000000</td>\n      <td>14345.000000</td>\n      <td>14345.000000</td>\n      <td>1.584375</td>\n      <td>2.898305</td>\n      <td>1.382609</td>\n      <td>14345.000000</td>\n    </tr>\n  </tbody>\n</table>\n<p>8 rows × 30 columns</p>\n</div>"
     },
     "metadata": {},
     "execution_count": 2
    }
   ],
   "source": [
    "dataset = Dataset()            # Loads the preprocessed dataset\n",
    "train_set = dataset.train_data # Training set without labels (train.csv)\n",
    "target = dataset.target        # Labels for training set     (train.csv[Deceased])\n",
    "test_set = dataset.test_data   # Unlabeled test set          (test.csv)\n",
    "\n",
    "train_set.describe()"
   ]
  },
  {
   "cell_type": "markdown",
   "metadata": {},
   "source": [
    "### Step 2: Apply transformations and select variables"
   ]
  },
  {
   "cell_type": "code",
   "execution_count": 3,
   "metadata": {},
   "outputs": [
    {
     "output_type": "error",
     "ename": "NameError",
     "evalue": "name 'MinMaxScaler' is not defined",
     "traceback": [
      "\u001b[1;31m---------------------------------------------------------------------------\u001b[0m",
      "\u001b[1;31mNameError\u001b[0m                                 Traceback (most recent call last)",
      "\u001b[1;32m<ipython-input-3-cbc617901fa3>\u001b[0m in \u001b[0;36m<module>\u001b[1;34m\u001b[0m\n\u001b[0;32m     13\u001b[0m ]\n\u001b[0;32m     14\u001b[0m \u001b[1;33m\u001b[0m\u001b[0m\n\u001b[1;32m---> 15\u001b[1;33m \u001b[0mscaler\u001b[0m \u001b[1;33m=\u001b[0m \u001b[0mMinMaxScaler\u001b[0m\u001b[1;33m(\u001b[0m\u001b[1;33m)\u001b[0m\u001b[1;33m.\u001b[0m\u001b[0mfit\u001b[0m\u001b[1;33m(\u001b[0m\u001b[0mtest_set\u001b[0m\u001b[1;33m[\u001b[0m\u001b[0mselected_variables_SVC\u001b[0m\u001b[1;33m]\u001b[0m\u001b[1;33m)\u001b[0m\u001b[1;33m\u001b[0m\u001b[1;33m\u001b[0m\u001b[0m\n\u001b[0m\u001b[0;32m     16\u001b[0m \u001b[0mtrain_set\u001b[0m\u001b[1;33m[\u001b[0m\u001b[0mselected_variables_SVC\u001b[0m\u001b[1;33m]\u001b[0m \u001b[1;33m=\u001b[0m \u001b[0mscaler\u001b[0m\u001b[1;33m.\u001b[0m\u001b[0mtransform\u001b[0m\u001b[1;33m(\u001b[0m\u001b[0mtrain_set\u001b[0m\u001b[1;33m[\u001b[0m\u001b[0mselected_variables_SVC\u001b[0m\u001b[1;33m]\u001b[0m\u001b[1;33m)\u001b[0m\u001b[1;33m\u001b[0m\u001b[1;33m\u001b[0m\u001b[0m\n\u001b[0;32m     17\u001b[0m \u001b[0mtest_set\u001b[0m\u001b[1;33m[\u001b[0m\u001b[0mselected_variables_SVC\u001b[0m\u001b[1;33m]\u001b[0m \u001b[1;33m=\u001b[0m \u001b[0mscaler\u001b[0m\u001b[1;33m.\u001b[0m\u001b[0mtransform\u001b[0m\u001b[1;33m(\u001b[0m\u001b[0mtest_set\u001b[0m\u001b[1;33m[\u001b[0m\u001b[0mselected_variables_SVC\u001b[0m\u001b[1;33m]\u001b[0m\u001b[1;33m)\u001b[0m\u001b[1;33m\u001b[0m\u001b[1;33m\u001b[0m\u001b[0m\n",
      "\u001b[1;31mNameError\u001b[0m: name 'MinMaxScaler' is not defined"
     ]
    }
   ],
   "source": [
    "from sklearn.preprocessing import RobustScaler\n",
    "\n",
    "selected_variables_SVC = [\n",
    "    'Severity',\n",
    "    'Gender_M',\n",
    "    'City_Albuquerque',\n",
    "    'City_Santa Fe',\n",
    "    \"severity_against_avg_gender\",\n",
    "    'Medical_Tent_n/a',\n",
    "    'spending_family_member',\n",
    "    'family_size',\n",
    "    'Sev_family'\n",
    "]\n",
    "\n",
    "scaler = MinMaxScaler().fit(test_set[selected_variables_SVC])\n",
    "train_set[selected_variables_SVC] = scaler.transform(train_set[selected_variables_SVC])\n",
    "test_set[selected_variables_SVC] = scaler.transform(test_set[selected_variables_SVC])"
   ]
  },
  {
   "cell_type": "markdown",
   "metadata": {},
   "source": [
    "### Step 3: Load model from SKLearn"
   ]
  },
  {
   "cell_type": "code",
   "execution_count": null,
   "metadata": {},
   "outputs": [],
   "source": [
    "from sklearn import svm\n",
    "\n",
    "# Create classifier from SciKitLearn\n",
    "svm_model = svm.NuSVC()"
   ]
  },
  {
   "cell_type": "markdown",
   "metadata": {},
   "source": [
    "### Step 4: Run model"
   ]
  },
  {
   "cell_type": "code",
   "execution_count": 5,
   "metadata": {},
   "outputs": [
    {
     "output_type": "stream",
     "name": "stdout",
     "text": "Model - NuSVC(break_ties=False, cache_size=200, class_weight=None, coef0=0.0,\n      decision_function_shape='ovr', degree=3, gamma='scale', kernel='rbf',\n      max_iter=-1, nu=0.5, probability=False, random_state=None, shrinking=True,\n      tol=0.001, verbose=False)\nAverage model accuracy: 59.37%\nHighest model accuracy: 67.60%\nSolution set saved as 'results/svc_results.csv'.\n"
    },
    {
     "output_type": "execute_result",
     "data": {
      "text/plain": "            Severity  Gender_M  City_Albuquerque  City_Santa Fe  \\\nPatient_ID                                                        \n1                  3         0                 0              1   \n2                  1         0                 1              0   \n3                  3         1                 0              1   \n4                  3         1                 0              1   \n5                  3         0                 0              1   \n...              ...       ...               ...            ...   \n896                3         0                 0              1   \n897                3         1                 0              1   \n898                3         0                 0              0   \n899                2         1                 0              1   \n900                3         0                 1              0   \n\n            severity_against_avg_gender  Medical_Tent_n/a  \\\nPatient_ID                                                  \n1                              1.382609                 1   \n2                              0.460870                 1   \n3                              1.254310                 1   \n4                              1.254310                 1   \n5                              1.382609                 1   \n...                                 ...               ...   \n896                            1.382609                 1   \n897                            1.254310                 1   \n898                            1.382609                 1   \n899                            0.836207                 1   \n900                            1.382609                 0   \n\n            spending_family_member  family_size  Sev_family  \nPatient_ID                                                   \n1                       225.000000            1         3.0  \n2                       831.500000            1         1.0  \n3                       221.000000            1         3.0  \n4                       220.000000            1         3.0  \n5                       222.000000            1         3.0  \n...                            ...          ...         ...  \n896                     114.666667            2         3.0  \n897                     258.000000            1         3.0  \n898                     214.000000            1         3.0  \n899                     270.666667            3         2.0  \n900                     202.000000            1         3.0  \n\n[898 rows x 9 columns]",
      "text/html": "<div>\n<style scoped>\n    .dataframe tbody tr th:only-of-type {\n        vertical-align: middle;\n    }\n\n    .dataframe tbody tr th {\n        vertical-align: top;\n    }\n\n    .dataframe thead th {\n        text-align: right;\n    }\n</style>\n<table border=\"1\" class=\"dataframe\">\n  <thead>\n    <tr style=\"text-align: right;\">\n      <th></th>\n      <th>Severity</th>\n      <th>Gender_M</th>\n      <th>City_Albuquerque</th>\n      <th>City_Santa Fe</th>\n      <th>severity_against_avg_gender</th>\n      <th>Medical_Tent_n/a</th>\n      <th>spending_family_member</th>\n      <th>family_size</th>\n      <th>Sev_family</th>\n    </tr>\n    <tr>\n      <th>Patient_ID</th>\n      <th></th>\n      <th></th>\n      <th></th>\n      <th></th>\n      <th></th>\n      <th></th>\n      <th></th>\n      <th></th>\n      <th></th>\n    </tr>\n  </thead>\n  <tbody>\n    <tr>\n      <td>1</td>\n      <td>3</td>\n      <td>0</td>\n      <td>0</td>\n      <td>1</td>\n      <td>1.382609</td>\n      <td>1</td>\n      <td>225.000000</td>\n      <td>1</td>\n      <td>3.0</td>\n    </tr>\n    <tr>\n      <td>2</td>\n      <td>1</td>\n      <td>0</td>\n      <td>1</td>\n      <td>0</td>\n      <td>0.460870</td>\n      <td>1</td>\n      <td>831.500000</td>\n      <td>1</td>\n      <td>1.0</td>\n    </tr>\n    <tr>\n      <td>3</td>\n      <td>3</td>\n      <td>1</td>\n      <td>0</td>\n      <td>1</td>\n      <td>1.254310</td>\n      <td>1</td>\n      <td>221.000000</td>\n      <td>1</td>\n      <td>3.0</td>\n    </tr>\n    <tr>\n      <td>4</td>\n      <td>3</td>\n      <td>1</td>\n      <td>0</td>\n      <td>1</td>\n      <td>1.254310</td>\n      <td>1</td>\n      <td>220.000000</td>\n      <td>1</td>\n      <td>3.0</td>\n    </tr>\n    <tr>\n      <td>5</td>\n      <td>3</td>\n      <td>0</td>\n      <td>0</td>\n      <td>1</td>\n      <td>1.382609</td>\n      <td>1</td>\n      <td>222.000000</td>\n      <td>1</td>\n      <td>3.0</td>\n    </tr>\n    <tr>\n      <td>...</td>\n      <td>...</td>\n      <td>...</td>\n      <td>...</td>\n      <td>...</td>\n      <td>...</td>\n      <td>...</td>\n      <td>...</td>\n      <td>...</td>\n      <td>...</td>\n    </tr>\n    <tr>\n      <td>896</td>\n      <td>3</td>\n      <td>0</td>\n      <td>0</td>\n      <td>1</td>\n      <td>1.382609</td>\n      <td>1</td>\n      <td>114.666667</td>\n      <td>2</td>\n      <td>3.0</td>\n    </tr>\n    <tr>\n      <td>897</td>\n      <td>3</td>\n      <td>1</td>\n      <td>0</td>\n      <td>1</td>\n      <td>1.254310</td>\n      <td>1</td>\n      <td>258.000000</td>\n      <td>1</td>\n      <td>3.0</td>\n    </tr>\n    <tr>\n      <td>898</td>\n      <td>3</td>\n      <td>0</td>\n      <td>0</td>\n      <td>0</td>\n      <td>1.382609</td>\n      <td>1</td>\n      <td>214.000000</td>\n      <td>1</td>\n      <td>3.0</td>\n    </tr>\n    <tr>\n      <td>899</td>\n      <td>2</td>\n      <td>1</td>\n      <td>0</td>\n      <td>1</td>\n      <td>0.836207</td>\n      <td>1</td>\n      <td>270.666667</td>\n      <td>3</td>\n      <td>2.0</td>\n    </tr>\n    <tr>\n      <td>900</td>\n      <td>3</td>\n      <td>0</td>\n      <td>1</td>\n      <td>0</td>\n      <td>1.382609</td>\n      <td>0</td>\n      <td>202.000000</td>\n      <td>1</td>\n      <td>3.0</td>\n    </tr>\n  </tbody>\n</table>\n<p>898 rows × 9 columns</p>\n</div>"
     },
     "metadata": {},
     "execution_count": 5
    }
   ],
   "source": [
    "model = Model(model     = svm_model,              # Initialized classifier model from SKLearn\n",
    "              variables = selected_variables_SVC, # Subset of variables from data to be used for training\n",
    "                                                  # If variables=None, then all variables in set are used\n",
    "              \n",
    "              train_set = train_set,              # Samples X for training and validating\n",
    "              target    = target,                 # Samples Y for training and validating\n",
    "              test_set  = test_set                # Unlabeled samples for creating prediction\n",
    "              )                 \n",
    "\n",
    "model.run_model(path=\"results/svc_results.csv\")\n",
    "model.train_data"
   ]
  },
  {
   "cell_type": "code",
   "execution_count": null,
   "metadata": {},
   "outputs": [],
   "source": []
  }
 ],
 "metadata": {
  "kernelspec": {
   "display_name": "Python 3",
   "language": "python",
   "name": "python3"
  },
  "language_info": {
   "codemirror_mode": {
    "name": "ipython",
    "version": 3
   },
   "file_extension": ".py",
   "mimetype": "text/x-python",
   "name": "python",
   "nbconvert_exporter": "python",
   "pygments_lexer": "ipython3",
   "version": "3.7.4-final"
  }
 },
 "nbformat": 4,
 "nbformat_minor": 4
}