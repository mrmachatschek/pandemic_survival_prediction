{
 "cells": [
  {
   "cell_type": "code",
   "execution_count": 8,
   "metadata": {},
   "outputs": [],
   "source": [
    "import pandas as pd \n",
    "from sklearn.preprocessing import MinMaxScaler, StandardScaler, RobustScaler\n",
    "from sklearn.ensemble import RandomForestClassifier\n",
    "from dataset import Dataset\n",
    "from sklearn.model_selection import GridSearchCV\n",
    "from feature_selection import get_features"
   ]
  },
  {
   "cell_type": "code",
   "execution_count": 9,
   "metadata": {},
   "outputs": [],
   "source": [
    "dataset = Dataset()            # Loads the preprocessed dataset\n",
    "dataset.apply_preparation()    # Applies preprocessing and feature engineering\n",
    "train_set = dataset.train_data # Training set without labels (train.csv)\n",
    "target = dataset.target        # Labels for training set     (train.csv[Deceased])\n",
    "test_set = dataset.test_data   # Unlabeled test set          (test.csv)"
   ]
  },
  {
   "cell_type": "code",
   "execution_count": 10,
   "metadata": {},
   "outputs": [],
   "source": [
    "#Scaling\n",
    "cols = train_set.columns.values\n",
    "test_idx = test_set.index.values\n",
    "scale_type = \"StandardScaler\"\n",
    "if scale_type == \"RobustScaler\":\n",
    "    robust = RobustScaler().fit(train_set)\n",
    "    train_set = robust.transform(train_set)\n",
    "    test_set = robust.transform(test_set)\n",
    "elif scale_type == \"MinMaxScaler\":\n",
    "    minmax = MinMaxScaler().fit(train_set)\n",
    "    train_set = minmax.transform(train_set)\n",
    "    test_set = minmax.transform(test_set)\n",
    "elif scale_type == \"StandardScaler\":\n",
    "    scaler = StandardScaler().fit(train_set)\n",
    "    train_set = scaler.transform(train_set)\n",
    "    test_set = scaler.transform(test_set)\n",
    "train_set = pd.DataFrame(train_set, columns=cols)\n",
    "test_set = pd.DataFrame(test_set, columns=cols) \n",
    "test_set.index = test_idx"
   ]
  },
  {
   "cell_type": "code",
   "execution_count": 11,
   "metadata": {},
   "outputs": [],
   "source": [
    "#rfe = get_features(train_set, target, method=\"rfe\", model=\"rf\", n_features=\"auto\", verbose=1)\n",
    "#boruta = get_features(train_set, target, method=\"boruta\", model=\"rf\", n_features=\"auto\", verbose=1)\n",
    "#sfs = get_features(train_set, target, method=\"sfs\", model=\"rf\", n_features=\"auto\", verbose=1)"
   ]
  },
  {
   "cell_type": "code",
   "execution_count": 12,
   "metadata": {},
   "outputs": [],
   "source": [
    "boruta = ['Birthday_year', 'Medical_Expenses_Family', 'Sev_by_gender',\n",
    "       'Gender_M', 'spending_vs_severity', 'spending_family_member',\n",
    "       'spending_family_severity']\n",
    "rfe = ['Birthday_year', 'Medical_Expenses_Family', 'Sev_by_gender',\n",
    "       'Gender_M', 'spending_vs_severity', 'spending_family_member',\n",
    "       'severity_against_avg_city', 'spending_family_severity']\n",
    "sfs = ['Severity',\n",
    " 'Sev_by_city',\n",
    " 'Sev_by_gender',\n",
    " 'Medical_Tent_D',\n",
    " 'Medical_Tent_E',\n",
    " 'Medical_Tent_F',\n",
    " 'City_Albuquerque',\n",
    " 'severity_against_avg_city']"
   ]
  },
  {
   "cell_type": "code",
   "execution_count": 13,
   "metadata": {},
   "outputs": [],
   "source": [
    "is_training = False\n",
    "\n",
    "if is_training:\n",
    "    # GridSearchCV: Random Forest\n",
    "    fs_names = [\"boruta\", \"rfe\", \"sfs\"]\n",
    "    counter = 0\n",
    "    for fs in [boruta, rfe, sfs]:\n",
    "        X_train_grid = train_set[fs]\n",
    "        parameters = dict(n_estimators=[100, 200, 300], \n",
    "                        criterion=['gini', \"entropy\"],\n",
    "                        max_depth=[None, 10, 20],\n",
    "                        min_samples_split=[2,3], \n",
    "                        class_weight=[None, \"balanced\", {0: 1, 1: 1.3}],\n",
    "                        ccp_alpha=[0.0, 0.0001],\n",
    "                        max_samples=[None, 0.8],\n",
    "                        )\n",
    "\n",
    "        rf = RandomForestClassifier()\n",
    "        rf_gs = GridSearchCV(rf, parameters, cv=5, scoring=[\"accuracy\"], refit=False, verbose=1, n_jobs=-1)\n",
    "        rf_gs.fit(X_train_grid, target)\n",
    "        results = pd.DataFrame(rf_gs.cv_results_)\n",
    "        print(\"Finished \", fs_names[counter])\n",
    "        results.to_csv(\"results/\" + fs_names[counter] + \"_rf_gridsearch_results.csv\")\n",
    "        counter += 1"
   ]
  },
  {
   "cell_type": "code",
   "execution_count": 14,
   "metadata": {},
   "outputs": [
    {
     "output_type": "stream",
     "name": "stdout",
     "text": "boruta \n\n"
    },
    {
     "output_type": "display_data",
     "data": {
      "text/plain": "     Unnamed: 0  mean_fit_time  std_fit_time  mean_score_time  std_score_time  \\\n269         269       0.949062      0.057544         0.069813        0.008556   \n57           57       0.280649      0.010808         0.019348        0.001850   \n381         381       0.464957      0.011238         0.026529        0.007637   \n\n     param_ccp_alpha param_class_weight param_criterion  param_max_depth  \\\n269           0.0001                NaN         entropy             10.0   \n57            0.0000                NaN         entropy             10.0   \n381           0.0001     {0: 1, 1: 1.3}            gini             10.0   \n\n     param_max_samples  ...  param_n_estimators  \\\n269                NaN  ...                 300   \n57                 0.8  ...                 100   \n381                0.8  ...                 100   \n\n                                                params split0_test_accuracy  \\\n269  {'ccp_alpha': 0.0001, 'class_weight': None, 'c...             0.838889   \n57   {'ccp_alpha': 0.0, 'class_weight': None, 'crit...             0.844444   \n381  {'ccp_alpha': 0.0001, 'class_weight': {0: 1, 1...             0.838889   \n\n     split1_test_accuracy  split2_test_accuracy  split3_test_accuracy  \\\n269              0.844444              0.872222              0.821229   \n57               0.838889              0.883333              0.810056   \n381              0.838889              0.866667              0.804469   \n\n     split4_test_accuracy  mean_test_accuracy  std_test_accuracy  \\\n269              0.821229            0.839603           0.018779   \n57               0.821229            0.839590           0.025088   \n381              0.832402            0.836263           0.019819   \n\n     rank_test_accuracy  \n269                   1  \n57                    2  \n381                   3  \n\n[3 rows x 21 columns]",
      "text/html": "<div>\n<style scoped>\n    .dataframe tbody tr th:only-of-type {\n        vertical-align: middle;\n    }\n\n    .dataframe tbody tr th {\n        vertical-align: top;\n    }\n\n    .dataframe thead th {\n        text-align: right;\n    }\n</style>\n<table border=\"1\" class=\"dataframe\">\n  <thead>\n    <tr style=\"text-align: right;\">\n      <th></th>\n      <th>Unnamed: 0</th>\n      <th>mean_fit_time</th>\n      <th>std_fit_time</th>\n      <th>mean_score_time</th>\n      <th>std_score_time</th>\n      <th>param_ccp_alpha</th>\n      <th>param_class_weight</th>\n      <th>param_criterion</th>\n      <th>param_max_depth</th>\n      <th>param_max_samples</th>\n      <th>...</th>\n      <th>param_n_estimators</th>\n      <th>params</th>\n      <th>split0_test_accuracy</th>\n      <th>split1_test_accuracy</th>\n      <th>split2_test_accuracy</th>\n      <th>split3_test_accuracy</th>\n      <th>split4_test_accuracy</th>\n      <th>mean_test_accuracy</th>\n      <th>std_test_accuracy</th>\n      <th>rank_test_accuracy</th>\n    </tr>\n  </thead>\n  <tbody>\n    <tr>\n      <td>269</td>\n      <td>269</td>\n      <td>0.949062</td>\n      <td>0.057544</td>\n      <td>0.069813</td>\n      <td>0.008556</td>\n      <td>0.0001</td>\n      <td>NaN</td>\n      <td>entropy</td>\n      <td>10.0</td>\n      <td>NaN</td>\n      <td>...</td>\n      <td>300</td>\n      <td>{'ccp_alpha': 0.0001, 'class_weight': None, 'c...</td>\n      <td>0.838889</td>\n      <td>0.844444</td>\n      <td>0.872222</td>\n      <td>0.821229</td>\n      <td>0.821229</td>\n      <td>0.839603</td>\n      <td>0.018779</td>\n      <td>1</td>\n    </tr>\n    <tr>\n      <td>57</td>\n      <td>57</td>\n      <td>0.280649</td>\n      <td>0.010808</td>\n      <td>0.019348</td>\n      <td>0.001850</td>\n      <td>0.0000</td>\n      <td>NaN</td>\n      <td>entropy</td>\n      <td>10.0</td>\n      <td>0.8</td>\n      <td>...</td>\n      <td>100</td>\n      <td>{'ccp_alpha': 0.0, 'class_weight': None, 'crit...</td>\n      <td>0.844444</td>\n      <td>0.838889</td>\n      <td>0.883333</td>\n      <td>0.810056</td>\n      <td>0.821229</td>\n      <td>0.839590</td>\n      <td>0.025088</td>\n      <td>2</td>\n    </tr>\n    <tr>\n      <td>381</td>\n      <td>381</td>\n      <td>0.464957</td>\n      <td>0.011238</td>\n      <td>0.026529</td>\n      <td>0.007637</td>\n      <td>0.0001</td>\n      <td>{0: 1, 1: 1.3}</td>\n      <td>gini</td>\n      <td>10.0</td>\n      <td>0.8</td>\n      <td>...</td>\n      <td>100</td>\n      <td>{'ccp_alpha': 0.0001, 'class_weight': {0: 1, 1...</td>\n      <td>0.838889</td>\n      <td>0.838889</td>\n      <td>0.866667</td>\n      <td>0.804469</td>\n      <td>0.832402</td>\n      <td>0.836263</td>\n      <td>0.019819</td>\n      <td>3</td>\n    </tr>\n  </tbody>\n</table>\n<p>3 rows × 21 columns</p>\n</div>"
     },
     "metadata": {}
    },
    {
     "output_type": "stream",
     "name": "stdout",
     "text": "rfe \n\n"
    },
    {
     "output_type": "display_data",
     "data": {
      "text/plain": "     Unnamed: 0  mean_fit_time  std_fit_time  mean_score_time  std_score_time  \\\n23           23       0.973197      0.041321         0.076595        0.006747   \n376         376       0.593014      0.030385         0.040892        0.008967   \n121         121       0.924925      0.037089         0.063431        0.010845   \n\n     param_ccp_alpha param_class_weight param_criterion  param_max_depth  \\\n23            0.0000                NaN            gini             10.0   \n376           0.0001     {0: 1, 1: 1.3}            gini             10.0   \n121           0.0000           balanced         entropy             10.0   \n\n     param_max_samples  ...  param_n_estimators  \\\n23                 0.8  ...                 300   \n376                NaN  ...                 200   \n121                NaN  ...                 200   \n\n                                                params split0_test_accuracy  \\\n23   {'ccp_alpha': 0.0, 'class_weight': None, 'crit...             0.855556   \n376  {'ccp_alpha': 0.0001, 'class_weight': {0: 1, 1...             0.844444   \n121  {'ccp_alpha': 0.0, 'class_weight': 'balanced',...             0.861111   \n\n     split1_test_accuracy  split2_test_accuracy  split3_test_accuracy  \\\n23               0.838889              0.877778              0.826816   \n376              0.844444              0.877778              0.826816   \n121              0.833333              0.877778              0.815642   \n\n     split4_test_accuracy  mean_test_accuracy  std_test_accuracy  \\\n23               0.821229            0.844053           0.020564   \n376              0.810056            0.840708           0.022515   \n121              0.815642            0.840701           0.024905   \n\n     rank_test_accuracy  \n23                    1  \n376                   2  \n121                   3  \n\n[3 rows x 21 columns]",
      "text/html": "<div>\n<style scoped>\n    .dataframe tbody tr th:only-of-type {\n        vertical-align: middle;\n    }\n\n    .dataframe tbody tr th {\n        vertical-align: top;\n    }\n\n    .dataframe thead th {\n        text-align: right;\n    }\n</style>\n<table border=\"1\" class=\"dataframe\">\n  <thead>\n    <tr style=\"text-align: right;\">\n      <th></th>\n      <th>Unnamed: 0</th>\n      <th>mean_fit_time</th>\n      <th>std_fit_time</th>\n      <th>mean_score_time</th>\n      <th>std_score_time</th>\n      <th>param_ccp_alpha</th>\n      <th>param_class_weight</th>\n      <th>param_criterion</th>\n      <th>param_max_depth</th>\n      <th>param_max_samples</th>\n      <th>...</th>\n      <th>param_n_estimators</th>\n      <th>params</th>\n      <th>split0_test_accuracy</th>\n      <th>split1_test_accuracy</th>\n      <th>split2_test_accuracy</th>\n      <th>split3_test_accuracy</th>\n      <th>split4_test_accuracy</th>\n      <th>mean_test_accuracy</th>\n      <th>std_test_accuracy</th>\n      <th>rank_test_accuracy</th>\n    </tr>\n  </thead>\n  <tbody>\n    <tr>\n      <td>23</td>\n      <td>23</td>\n      <td>0.973197</td>\n      <td>0.041321</td>\n      <td>0.076595</td>\n      <td>0.006747</td>\n      <td>0.0000</td>\n      <td>NaN</td>\n      <td>gini</td>\n      <td>10.0</td>\n      <td>0.8</td>\n      <td>...</td>\n      <td>300</td>\n      <td>{'ccp_alpha': 0.0, 'class_weight': None, 'crit...</td>\n      <td>0.855556</td>\n      <td>0.838889</td>\n      <td>0.877778</td>\n      <td>0.826816</td>\n      <td>0.821229</td>\n      <td>0.844053</td>\n      <td>0.020564</td>\n      <td>1</td>\n    </tr>\n    <tr>\n      <td>376</td>\n      <td>376</td>\n      <td>0.593014</td>\n      <td>0.030385</td>\n      <td>0.040892</td>\n      <td>0.008967</td>\n      <td>0.0001</td>\n      <td>{0: 1, 1: 1.3}</td>\n      <td>gini</td>\n      <td>10.0</td>\n      <td>NaN</td>\n      <td>...</td>\n      <td>200</td>\n      <td>{'ccp_alpha': 0.0001, 'class_weight': {0: 1, 1...</td>\n      <td>0.844444</td>\n      <td>0.844444</td>\n      <td>0.877778</td>\n      <td>0.826816</td>\n      <td>0.810056</td>\n      <td>0.840708</td>\n      <td>0.022515</td>\n      <td>2</td>\n    </tr>\n    <tr>\n      <td>121</td>\n      <td>121</td>\n      <td>0.924925</td>\n      <td>0.037089</td>\n      <td>0.063431</td>\n      <td>0.010845</td>\n      <td>0.0000</td>\n      <td>balanced</td>\n      <td>entropy</td>\n      <td>10.0</td>\n      <td>NaN</td>\n      <td>...</td>\n      <td>200</td>\n      <td>{'ccp_alpha': 0.0, 'class_weight': 'balanced',...</td>\n      <td>0.861111</td>\n      <td>0.833333</td>\n      <td>0.877778</td>\n      <td>0.815642</td>\n      <td>0.815642</td>\n      <td>0.840701</td>\n      <td>0.024905</td>\n      <td>3</td>\n    </tr>\n  </tbody>\n</table>\n<p>3 rows × 21 columns</p>\n</div>"
     },
     "metadata": {}
    },
    {
     "output_type": "stream",
     "name": "stdout",
     "text": "sfs \n\n"
    },
    {
     "output_type": "display_data",
     "data": {
      "text/plain": "     Unnamed: 0  mean_fit_time  std_fit_time  mean_score_time  std_score_time  \\\n215         215       0.555514      0.016521         0.053458        0.003816   \n386         386       0.603985      0.009641         0.056050        0.008681   \n378         378       0.207444      0.007080         0.016755        0.001163   \n\n     param_ccp_alpha param_class_weight param_criterion  param_max_depth  \\\n215           0.0000     {0: 1, 1: 1.3}         entropy             20.0   \n386           0.0001     {0: 1, 1: 1.3}            gini             20.0   \n378           0.0001     {0: 1, 1: 1.3}            gini             10.0   \n\n     param_max_samples  ...  param_n_estimators  \\\n215                0.8  ...                 300   \n386                NaN  ...                 300   \n378                0.8  ...                 100   \n\n                                                params split0_test_accuracy  \\\n215  {'ccp_alpha': 0.0, 'class_weight': {0: 1, 1: 1...             0.827778   \n386  {'ccp_alpha': 0.0001, 'class_weight': {0: 1, 1...             0.827778   \n378  {'ccp_alpha': 0.0001, 'class_weight': {0: 1, 1...             0.827778   \n\n     split1_test_accuracy  split2_test_accuracy  split3_test_accuracy  \\\n215              0.788889              0.866667              0.793296   \n386              0.788889              0.866667              0.793296   \n378              0.788889              0.866667              0.793296   \n\n     split4_test_accuracy  mean_test_accuracy  std_test_accuracy  \\\n215              0.804469             0.81622           0.028597   \n386              0.804469             0.81622           0.028597   \n378              0.804469             0.81622           0.028597   \n\n     rank_test_accuracy  \n215                   1  \n386                   1  \n378                   1  \n\n[3 rows x 21 columns]",
      "text/html": "<div>\n<style scoped>\n    .dataframe tbody tr th:only-of-type {\n        vertical-align: middle;\n    }\n\n    .dataframe tbody tr th {\n        vertical-align: top;\n    }\n\n    .dataframe thead th {\n        text-align: right;\n    }\n</style>\n<table border=\"1\" class=\"dataframe\">\n  <thead>\n    <tr style=\"text-align: right;\">\n      <th></th>\n      <th>Unnamed: 0</th>\n      <th>mean_fit_time</th>\n      <th>std_fit_time</th>\n      <th>mean_score_time</th>\n      <th>std_score_time</th>\n      <th>param_ccp_alpha</th>\n      <th>param_class_weight</th>\n      <th>param_criterion</th>\n      <th>param_max_depth</th>\n      <th>param_max_samples</th>\n      <th>...</th>\n      <th>param_n_estimators</th>\n      <th>params</th>\n      <th>split0_test_accuracy</th>\n      <th>split1_test_accuracy</th>\n      <th>split2_test_accuracy</th>\n      <th>split3_test_accuracy</th>\n      <th>split4_test_accuracy</th>\n      <th>mean_test_accuracy</th>\n      <th>std_test_accuracy</th>\n      <th>rank_test_accuracy</th>\n    </tr>\n  </thead>\n  <tbody>\n    <tr>\n      <td>215</td>\n      <td>215</td>\n      <td>0.555514</td>\n      <td>0.016521</td>\n      <td>0.053458</td>\n      <td>0.003816</td>\n      <td>0.0000</td>\n      <td>{0: 1, 1: 1.3}</td>\n      <td>entropy</td>\n      <td>20.0</td>\n      <td>0.8</td>\n      <td>...</td>\n      <td>300</td>\n      <td>{'ccp_alpha': 0.0, 'class_weight': {0: 1, 1: 1...</td>\n      <td>0.827778</td>\n      <td>0.788889</td>\n      <td>0.866667</td>\n      <td>0.793296</td>\n      <td>0.804469</td>\n      <td>0.81622</td>\n      <td>0.028597</td>\n      <td>1</td>\n    </tr>\n    <tr>\n      <td>386</td>\n      <td>386</td>\n      <td>0.603985</td>\n      <td>0.009641</td>\n      <td>0.056050</td>\n      <td>0.008681</td>\n      <td>0.0001</td>\n      <td>{0: 1, 1: 1.3}</td>\n      <td>gini</td>\n      <td>20.0</td>\n      <td>NaN</td>\n      <td>...</td>\n      <td>300</td>\n      <td>{'ccp_alpha': 0.0001, 'class_weight': {0: 1, 1...</td>\n      <td>0.827778</td>\n      <td>0.788889</td>\n      <td>0.866667</td>\n      <td>0.793296</td>\n      <td>0.804469</td>\n      <td>0.81622</td>\n      <td>0.028597</td>\n      <td>1</td>\n    </tr>\n    <tr>\n      <td>378</td>\n      <td>378</td>\n      <td>0.207444</td>\n      <td>0.007080</td>\n      <td>0.016755</td>\n      <td>0.001163</td>\n      <td>0.0001</td>\n      <td>{0: 1, 1: 1.3}</td>\n      <td>gini</td>\n      <td>10.0</td>\n      <td>0.8</td>\n      <td>...</td>\n      <td>100</td>\n      <td>{'ccp_alpha': 0.0001, 'class_weight': {0: 1, 1...</td>\n      <td>0.827778</td>\n      <td>0.788889</td>\n      <td>0.866667</td>\n      <td>0.793296</td>\n      <td>0.804469</td>\n      <td>0.81622</td>\n      <td>0.028597</td>\n      <td>1</td>\n    </tr>\n  </tbody>\n</table>\n<p>3 rows × 21 columns</p>\n</div>"
     },
     "metadata": {}
    }
   ],
   "source": [
    "for fs in [\"boruta\", \"rfe\", \"sfs\"]:\n",
    "    print(fs,\"\\n\")\n",
    "    rf_results = pd.read_csv(\"results/\" + fs + \"_rf_gridsearch_results.csv\")\n",
    "    rf_results = rf_results.sort_values(\"rank_test_accuracy\", )\n",
    "    display(rf_results.head(n=3))"
   ]
  },
  {
   "cell_type": "code",
   "execution_count": 15,
   "metadata": {},
   "outputs": [
    {
     "output_type": "execute_result",
     "data": {
      "text/plain": "param_ccp_alpha                    0.0001\nparam_class_weight         {0: 1, 1: 1.3}\nparam_criterion                      gini\nparam_max_depth                        10\nparam_max_samples                     NaN\nparam_min_samples_split                 3\nparam_n_estimators                    200\nName: 376, dtype: object"
     },
     "metadata": {},
     "execution_count": 15
    }
   ],
   "source": [
    "rf_results = pd.read_csv(\"results/rfe_rf_gridsearch_results.csv\")\n",
    "rf_results = rf_results.sort_values(\"rank_test_accuracy\", )\n",
    "rf_results.iloc[1,5:-9]"
   ]
  },
  {
   "cell_type": "code",
   "execution_count": 16,
   "metadata": {},
   "outputs": [
    {
     "output_type": "execute_result",
     "data": {
      "text/plain": "0.9309576837416481"
     },
     "metadata": {},
     "execution_count": 16
    }
   ],
   "source": [
    "clf = RandomForestClassifier(n_estimators=200, min_samples_split=3, class_weight={0:1, 1:1.3},criterion=\"gini\",max_depth=10,ccp_alpha=0.0001, random_state=1)\n",
    "clf.fit(train_set[rfe],target)\n",
    "clf.score(train_set[rfe], target)"
   ]
  },
  {
   "cell_type": "code",
   "execution_count": null,
   "metadata": {},
   "outputs": [],
   "source": []
  }
 ],
 "metadata": {
  "language_info": {
   "codemirror_mode": {
    "name": "ipython",
    "version": 3
   },
   "file_extension": ".py",
   "mimetype": "text/x-python",
   "name": "python",
   "nbconvert_exporter": "python",
   "pygments_lexer": "ipython3",
   "version": "3.7.4-final"
  },
  "orig_nbformat": 2,
  "kernelspec": {
   "name": "python37464bitmichaelvirtualenv8c63a04aa4df46b1aed515199121a56c",
   "display_name": "Python 3.7.4 64-bit ('Michael': virtualenv)"
  }
 },
 "nbformat": 4,
 "nbformat_minor": 2
}