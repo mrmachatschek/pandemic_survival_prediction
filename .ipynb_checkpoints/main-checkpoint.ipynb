{
 "cells": [
  {
   "cell_type": "code",
   "execution_count": 10,
   "metadata": {
    "ExecuteTime": {
     "end_time": "2020-04-20T15:30:36.418034Z",
     "start_time": "2020-04-20T15:30:36.383122Z"
    }
   },
   "outputs": [],
   "source": [
    "import numpy as np\n",
    "import pandas as pd\n",
    "import matplotlib.pyplot as plt\n",
    "import seaborn as sns\n",
    "from sklearn.preprocessing import MinMaxScaler\n",
    "import plotly.offline as po \n",
    "import plotly.graph_objects as go\n",
    "import plotly.express as px\n",
    "from plotly.subplots import make_subplots\n",
    "from sklearn.preprocessing import OneHotEncoder\n",
    "from sklearn import preprocessing\n",
    "from sklearn.preprocessing import OrdinalEncoder\n",
    "from sklearn.model_selection import train_test_split\n",
    "from sklearn import metrics\n",
    "import itertools\n",
    "from sklearn.linear_model import LogisticRegression\n",
    "from sklearn.ensemble import RandomForestClassifier\n",
    "from sklearn.ensemble import GradientBoostingClassifier\n",
    "from sklearn.neural_network import MLPClassifier\n",
    "from xgboost import XGBClassifier\n",
    "import warnings\n",
    "warnings.filterwarnings('ignore')"
   ]
  },
  {
   "cell_type": "code",
   "execution_count": 11,
   "metadata": {
    "ExecuteTime": {
     "end_time": "2020-04-20T15:30:40.463527Z",
     "start_time": "2020-04-20T15:30:40.428627Z"
    }
   },
   "outputs": [],
   "source": [
    "df = pd.read_csv(\"train.csv\")"
   ]
  },
  {
   "cell_type": "markdown",
   "metadata": {},
   "source": [
    "# Data Understanding"
   ]
  },
  {
   "cell_type": "code",
   "execution_count": 12,
   "metadata": {
    "ExecuteTime": {
     "end_time": "2020-04-20T15:30:43.251853Z",
     "start_time": "2020-04-20T15:30:43.176056Z"
    }
   },
   "outputs": [
    {
     "data": {
      "text/html": [
       "<div>\n",
       "<style scoped>\n",
       "    .dataframe tbody tr th:only-of-type {\n",
       "        vertical-align: middle;\n",
       "    }\n",
       "\n",
       "    .dataframe tbody tr th {\n",
       "        vertical-align: top;\n",
       "    }\n",
       "\n",
       "    .dataframe thead th {\n",
       "        text-align: right;\n",
       "    }\n",
       "</style>\n",
       "<table border=\"1\" class=\"dataframe\">\n",
       "  <thead>\n",
       "    <tr style=\"text-align: right;\">\n",
       "      <th></th>\n",
       "      <th>Patient_ID</th>\n",
       "      <th>Family_Case_ID</th>\n",
       "      <th>Severity</th>\n",
       "      <th>Name</th>\n",
       "      <th>Birthday_year</th>\n",
       "      <th>Parents or siblings infected</th>\n",
       "      <th>Wife/Husband or children infected</th>\n",
       "      <th>Medical_Expenses_Family</th>\n",
       "      <th>Medical_Tent</th>\n",
       "      <th>City</th>\n",
       "      <th>Deceased</th>\n",
       "    </tr>\n",
       "  </thead>\n",
       "  <tbody>\n",
       "    <tr>\n",
       "      <td>0</td>\n",
       "      <td>1</td>\n",
       "      <td>4696</td>\n",
       "      <td>3</td>\n",
       "      <td>Miss Linda Betty</td>\n",
       "      <td>NaN</td>\n",
       "      <td>0</td>\n",
       "      <td>0</td>\n",
       "      <td>225</td>\n",
       "      <td>NaN</td>\n",
       "      <td>Santa Fe</td>\n",
       "      <td>1</td>\n",
       "    </tr>\n",
       "    <tr>\n",
       "      <td>1</td>\n",
       "      <td>2</td>\n",
       "      <td>21436</td>\n",
       "      <td>1</td>\n",
       "      <td>Ms. Ramona Elvira</td>\n",
       "      <td>1966.0</td>\n",
       "      <td>0</td>\n",
       "      <td>1</td>\n",
       "      <td>1663</td>\n",
       "      <td>NaN</td>\n",
       "      <td>Albuquerque</td>\n",
       "      <td>0</td>\n",
       "    </tr>\n",
       "    <tr>\n",
       "      <td>2</td>\n",
       "      <td>3</td>\n",
       "      <td>7273</td>\n",
       "      <td>3</td>\n",
       "      <td>Mr. Mario Vernon</td>\n",
       "      <td>1982.0</td>\n",
       "      <td>0</td>\n",
       "      <td>0</td>\n",
       "      <td>221</td>\n",
       "      <td>NaN</td>\n",
       "      <td>Santa Fe</td>\n",
       "      <td>1</td>\n",
       "    </tr>\n",
       "    <tr>\n",
       "      <td>3</td>\n",
       "      <td>4</td>\n",
       "      <td>8226</td>\n",
       "      <td>3</td>\n",
       "      <td>Mr. Hector Joe</td>\n",
       "      <td>1997.0</td>\n",
       "      <td>0</td>\n",
       "      <td>0</td>\n",
       "      <td>220</td>\n",
       "      <td>NaN</td>\n",
       "      <td>Santa Fe</td>\n",
       "      <td>1</td>\n",
       "    </tr>\n",
       "    <tr>\n",
       "      <td>4</td>\n",
       "      <td>5</td>\n",
       "      <td>19689</td>\n",
       "      <td>3</td>\n",
       "      <td>Ms. Jennie Debra</td>\n",
       "      <td>1994.0</td>\n",
       "      <td>0</td>\n",
       "      <td>0</td>\n",
       "      <td>222</td>\n",
       "      <td>NaN</td>\n",
       "      <td>Santa Fe</td>\n",
       "      <td>0</td>\n",
       "    </tr>\n",
       "  </tbody>\n",
       "</table>\n",
       "</div>"
      ],
      "text/plain": [
       "   Patient_ID  Family_Case_ID  Severity               Name  Birthday_year  \\\n",
       "0           1            4696         3   Miss Linda Betty            NaN   \n",
       "1           2           21436         1  Ms. Ramona Elvira         1966.0   \n",
       "2           3            7273         3   Mr. Mario Vernon         1982.0   \n",
       "3           4            8226         3     Mr. Hector Joe         1997.0   \n",
       "4           5           19689         3   Ms. Jennie Debra         1994.0   \n",
       "\n",
       "   Parents or siblings infected  Wife/Husband or children infected  \\\n",
       "0                             0                                  0   \n",
       "1                             0                                  1   \n",
       "2                             0                                  0   \n",
       "3                             0                                  0   \n",
       "4                             0                                  0   \n",
       "\n",
       "   Medical_Expenses_Family Medical_Tent         City  Deceased  \n",
       "0                      225          NaN     Santa Fe         1  \n",
       "1                     1663          NaN  Albuquerque         0  \n",
       "2                      221          NaN     Santa Fe         1  \n",
       "3                      220          NaN     Santa Fe         1  \n",
       "4                      222          NaN     Santa Fe         0  "
      ]
     },
     "execution_count": 12,
     "metadata": {},
     "output_type": "execute_result"
    }
   ],
   "source": [
    "df.head()"
   ]
  },
  {
   "cell_type": "code",
   "execution_count": 13,
   "metadata": {
    "ExecuteTime": {
     "end_time": "2020-04-20T15:30:46.216825Z",
     "start_time": "2020-04-20T15:30:46.192889Z"
    }
   },
   "outputs": [
    {
     "name": "stdout",
     "output_type": "stream",
     "text": [
      "900\n"
     ]
    }
   ],
   "source": [
    "print(len(df.Patient_ID.unique())) #Check if Patient_ID can be used as index\n",
    "df = df.set_index(\"Patient_ID\")"
   ]
  },
  {
   "cell_type": "code",
   "execution_count": 14,
   "metadata": {
    "ExecuteTime": {
     "end_time": "2020-04-20T15:30:47.016685Z",
     "start_time": "2020-04-20T15:30:46.789293Z"
    },
    "scrolled": true
   },
   "outputs": [
    {
     "data": {
      "text/html": [
       "<div>\n",
       "<style scoped>\n",
       "    .dataframe tbody tr th:only-of-type {\n",
       "        vertical-align: middle;\n",
       "    }\n",
       "\n",
       "    .dataframe tbody tr th {\n",
       "        vertical-align: top;\n",
       "    }\n",
       "\n",
       "    .dataframe thead th {\n",
       "        text-align: right;\n",
       "    }\n",
       "</style>\n",
       "<table border=\"1\" class=\"dataframe\">\n",
       "  <thead>\n",
       "    <tr style=\"text-align: right;\">\n",
       "      <th></th>\n",
       "      <th>Family_Case_ID</th>\n",
       "      <th>Severity</th>\n",
       "      <th>Birthday_year</th>\n",
       "      <th>Parents or siblings infected</th>\n",
       "      <th>Wife/Husband or children infected</th>\n",
       "      <th>Medical_Expenses_Family</th>\n",
       "      <th>Deceased</th>\n",
       "    </tr>\n",
       "  </thead>\n",
       "  <tbody>\n",
       "    <tr>\n",
       "      <td>count</td>\n",
       "      <td>900.000000</td>\n",
       "      <td>900.000000</td>\n",
       "      <td>723.000000</td>\n",
       "      <td>900.000000</td>\n",
       "      <td>900.000000</td>\n",
       "      <td>900.000000</td>\n",
       "      <td>900.000000</td>\n",
       "    </tr>\n",
       "    <tr>\n",
       "      <td>mean</td>\n",
       "      <td>14305.827778</td>\n",
       "      <td>2.313333</td>\n",
       "      <td>1990.266943</td>\n",
       "      <td>0.380000</td>\n",
       "      <td>0.521111</td>\n",
       "      <td>895.743333</td>\n",
       "      <td>0.614444</td>\n",
       "    </tr>\n",
       "    <tr>\n",
       "      <td>std</td>\n",
       "      <td>25418.153900</td>\n",
       "      <td>0.834223</td>\n",
       "      <td>14.523335</td>\n",
       "      <td>0.803247</td>\n",
       "      <td>1.098385</td>\n",
       "      <td>1385.829926</td>\n",
       "      <td>0.486997</td>\n",
       "    </tr>\n",
       "    <tr>\n",
       "      <td>min</td>\n",
       "      <td>345.000000</td>\n",
       "      <td>1.000000</td>\n",
       "      <td>1940.000000</td>\n",
       "      <td>0.000000</td>\n",
       "      <td>0.000000</td>\n",
       "      <td>0.000000</td>\n",
       "      <td>0.000000</td>\n",
       "    </tr>\n",
       "    <tr>\n",
       "      <td>25%</td>\n",
       "      <td>8203.000000</td>\n",
       "      <td>2.000000</td>\n",
       "      <td>1982.000000</td>\n",
       "      <td>0.000000</td>\n",
       "      <td>0.000000</td>\n",
       "      <td>221.000000</td>\n",
       "      <td>0.000000</td>\n",
       "    </tr>\n",
       "    <tr>\n",
       "      <td>50%</td>\n",
       "      <td>13593.500000</td>\n",
       "      <td>3.000000</td>\n",
       "      <td>1992.000000</td>\n",
       "      <td>0.000000</td>\n",
       "      <td>0.000000</td>\n",
       "      <td>405.000000</td>\n",
       "      <td>1.000000</td>\n",
       "    </tr>\n",
       "    <tr>\n",
       "      <td>75%</td>\n",
       "      <td>18906.500000</td>\n",
       "      <td>3.000000</td>\n",
       "      <td>1999.500000</td>\n",
       "      <td>0.000000</td>\n",
       "      <td>1.000000</td>\n",
       "      <td>861.250000</td>\n",
       "      <td>1.000000</td>\n",
       "    </tr>\n",
       "    <tr>\n",
       "      <td>max</td>\n",
       "      <td>742836.000000</td>\n",
       "      <td>3.000000</td>\n",
       "      <td>2019.000000</td>\n",
       "      <td>6.000000</td>\n",
       "      <td>8.000000</td>\n",
       "      <td>14345.000000</td>\n",
       "      <td>1.000000</td>\n",
       "    </tr>\n",
       "  </tbody>\n",
       "</table>\n",
       "</div>"
      ],
      "text/plain": [
       "       Family_Case_ID    Severity  Birthday_year  \\\n",
       "count      900.000000  900.000000     723.000000   \n",
       "mean     14305.827778    2.313333    1990.266943   \n",
       "std      25418.153900    0.834223      14.523335   \n",
       "min        345.000000    1.000000    1940.000000   \n",
       "25%       8203.000000    2.000000    1982.000000   \n",
       "50%      13593.500000    3.000000    1992.000000   \n",
       "75%      18906.500000    3.000000    1999.500000   \n",
       "max     742836.000000    3.000000    2019.000000   \n",
       "\n",
       "       Parents or siblings infected  Wife/Husband or children infected  \\\n",
       "count                    900.000000                         900.000000   \n",
       "mean                       0.380000                           0.521111   \n",
       "std                        0.803247                           1.098385   \n",
       "min                        0.000000                           0.000000   \n",
       "25%                        0.000000                           0.000000   \n",
       "50%                        0.000000                           0.000000   \n",
       "75%                        0.000000                           1.000000   \n",
       "max                        6.000000                           8.000000   \n",
       "\n",
       "       Medical_Expenses_Family    Deceased  \n",
       "count               900.000000  900.000000  \n",
       "mean                895.743333    0.614444  \n",
       "std                1385.829926    0.486997  \n",
       "min                   0.000000    0.000000  \n",
       "25%                 221.000000    0.000000  \n",
       "50%                 405.000000    1.000000  \n",
       "75%                 861.250000    1.000000  \n",
       "max               14345.000000    1.000000  "
      ]
     },
     "execution_count": 14,
     "metadata": {},
     "output_type": "execute_result"
    }
   ],
   "source": [
    "df.describe()"
   ]
  },
  {
   "cell_type": "markdown",
   "metadata": {},
   "source": [
    "Seen the describe, I understood that it was useful doing the boxplot only at medical exepnses and birthday year to see possible outliers. The others doesn't seem to have weird values. "
   ]
  },
  {
   "cell_type": "code",
   "execution_count": 15,
   "metadata": {
    "ExecuteTime": {
     "end_time": "2020-04-20T15:30:51.152624Z",
     "start_time": "2020-04-20T15:30:50.456623Z"
    }
   },
   "outputs": [
    {
     "data": {
      "text/plain": [
       "<matplotlib.axes._subplots.AxesSubplot at 0x1f4a5756a88>"
      ]
     },
     "execution_count": 15,
     "metadata": {},
     "output_type": "execute_result"
    },
    {
     "data": {
      "image/png": "[encoded data removed]",
      "text/plain": [
       "<Figure size 432x288 with 1 Axes>"
      ]
     },
     "metadata": {
      "needs_background": "light"
     },
     "output_type": "display_data"
    }
   ],
   "source": [
    "# Boxplot age \n",
    "sns.boxplot(x=df[['Birthday_year']])"
   ]
  },
  {
   "cell_type": "code",
   "execution_count": 16,
   "metadata": {
    "ExecuteTime": {
     "end_time": "2020-04-20T15:30:54.406377Z",
     "start_time": "2020-04-20T15:30:53.921674Z"
    }
   },
   "outputs": [
    {
     "data": {
      "text/plain": [
       "<matplotlib.axes._subplots.AxesSubplot at 0x1f4a57c1b88>"
      ]
     },
     "execution_count": 16,
     "metadata": {},
     "output_type": "execute_result"
    },
    {
     "data": {
      "image/png": "[encoded data removed]",
      "text/plain": [
       "<Figure size 432x288 with 1 Axes>"
      ]
     },
     "metadata": {
      "needs_background": "light"
     },
     "output_type": "display_data"
    }
   ],
   "source": [
    "# Boxplot Medical expenses\n",
    "sns.boxplot(x=df[['Medical_Expenses_Family']])"
   ]
  },
  {
   "cell_type": "code",
   "execution_count": 17,
   "metadata": {
    "ExecuteTime": {
     "end_time": "2020-04-20T15:30:56.136892Z",
     "start_time": "2020-04-20T15:30:56.111916Z"
    }
   },
   "outputs": [
    {
     "data": {
      "text/plain": [
       "Family_Case_ID                         0\n",
       "Severity                               0\n",
       "Name                                   0\n",
       "Birthday_year                        177\n",
       "Parents or siblings infected           0\n",
       "Wife/Husband or children infected      0\n",
       "Medical_Expenses_Family                0\n",
       "Medical_Tent                         702\n",
       "City                                   2\n",
       "Deceased                               0\n",
       "dtype: int64"
      ]
     },
     "execution_count": 17,
     "metadata": {},
     "output_type": "execute_result"
    }
   ],
   "source": [
    "# Number of Nan values \n",
    "df.isna().sum()"
   ]
  },
  {
   "cell_type": "markdown",
   "metadata": {},
   "source": [
    "There are a lot of medical tent nan values. Medical tent it is basically the tent where the patient has been cured.. don't know how useful it is.. \n"
   ]
  },
  {
   "cell_type": "code",
   "execution_count": 18,
   "metadata": {
    "ExecuteTime": {
     "end_time": "2020-04-20T15:31:09.793467Z",
     "start_time": "2020-04-20T15:31:06.459399Z"
    }
   },
   "outputs": [
    {
     "data": {
      "text/plain": [
       "<matplotlib.axes._subplots.AxesSubplot at 0x1f4a5835588>"
      ]
     },
     "execution_count": 18,
     "metadata": {},
     "output_type": "execute_result"
    },
    {
     "data": {
      "image/png": "[encoded data removed]",
      "text/plain": [
       "<Figure size 576x288 with 2 Axes>"
      ]
     },
     "metadata": {},
     "output_type": "display_data"
    }
   ],
   "source": [
    "# Creating the correlation matrix \n",
    "pearson_corr_matrix=df.corr('pearson').round(decimals=2)\n",
    "sns.set(rc={'figure.figsize':(8,4)})\n",
    "sns.heatmap(pearson_corr_matrix,\n",
    "        xticklabels=pearson_corr_matrix.columns,\n",
    "        yticklabels=pearson_corr_matrix.columns, annot=True, linewidths=.5, cmap=\"YlGnBu\")\n"
   ]
  },
  {
   "cell_type": "markdown",
   "metadata": {},
   "source": [
    "Pretty weird the fact that there's an high negative correlation between medical expenss and severity.. I would have thought the contrary, the most is severe the most on meds you would spend. Normal to see birthday year and severity in positive correlation and the same for parents or sibilings and wife/husband. "
   ]
  },
  {
   "cell_type": "code",
   "execution_count": 19,
   "metadata": {
    "ExecuteTime": {
     "end_time": "2020-04-20T15:31:34.570601Z",
     "start_time": "2020-04-20T15:31:34.557635Z"
    }
   },
   "outputs": [],
   "source": [
    "numerical_var = [\"Severity\",\"Parents or siblings infected\", \"Wife/Husband or children infected\", \"Medical_Expenses_Family\"]"
   ]
  },
  {
   "cell_type": "code",
   "execution_count": 20,
   "metadata": {
    "ExecuteTime": {
     "end_time": "2020-04-20T15:31:42.053207Z",
     "start_time": "2020-04-20T15:31:35.514023Z"
    }
   },
   "outputs": [
    {
     "data": {
      "image/png": "[encoded data removed]",
      "text/plain": [
       "<Figure size 576x288 with 4 Axes>"
      ]
     },
     "metadata": {},
     "output_type": "display_data"
    }
   ],
   "source": [
    "# Histograms for all numeric variables\n",
    "df[numerical_var].hist(bins=15, layout=(2, 2), xlabelsize=8, ylabelsize=8);"
   ]
  },
  {
   "cell_type": "code",
   "execution_count": 21,
   "metadata": {
    "ExecuteTime": {
     "end_time": "2020-04-20T15:31:42.275950Z",
     "start_time": "2020-04-20T15:31:42.246031Z"
    }
   },
   "outputs": [
    {
     "name": "stdout",
     "output_type": "stream",
     "text": [
      "675\n"
     ]
    },
    {
     "data": {
      "text/plain": [
       "1    530\n",
       "2    102\n",
       "3     24\n",
       "4     10\n",
       "7      3\n",
       "6      3\n",
       "5      3\n",
       "Name: Family_Case_ID, dtype: int64"
      ]
     },
     "execution_count": 21,
     "metadata": {},
     "output_type": "execute_result"
    }
   ],
   "source": [
    "# Family sizes\n",
    "print(len(df.Family_Case_ID.unique()))\n",
    "pd.Series(df.Family_Case_ID.value_counts()).value_counts()"
   ]
  },
  {
   "cell_type": "code",
   "execution_count": 22,
   "metadata": {
    "ExecuteTime": {
     "end_time": "2020-04-20T15:31:50.270611Z",
     "start_time": "2020-04-20T15:31:48.845857Z"
    }
   },
   "outputs": [
    {
     "data": {
      "text/plain": [
       "Text(0, 0.5, 'Frequency')"
      ]
     },
     "execution_count": 22,
     "metadata": {},
     "output_type": "execute_result"
    },
    {
     "data": {
      "image/png": "[encoded data removed]",
      "text/plain": [
       "<Figure size 576x288 with 1 Axes>"
      ]
     },
     "metadata": {},
     "output_type": "display_data"
    }
   ],
   "source": [
    "# Plotting how big the family are, most of them just 1/2\n",
    "families = df.groupby([\"Family_Case_ID\"])[\"Family_Case_ID\"].count().reset_index(name='count').sort_values(by='count')\n",
    "\n",
    "ax = families.plot(x='Family_Case_ID', y ='count' , kind=\"hist\",legend= False, title = \"Families by number of members\",bins=7)\n",
    "ax.set_xlabel(\"Number of family members\")\n",
    "ax.set_ylabel(\"Frequency\")"
   ]
  },
  {
   "cell_type": "code",
   "execution_count": 23,
   "metadata": {
    "ExecuteTime": {
     "end_time": "2020-04-20T15:31:52.926095Z",
     "start_time": "2020-04-20T15:31:51.355001Z"
    }
   },
   "outputs": [
    {
     "data": {
      "text/plain": [
       "<matplotlib.axes._subplots.AxesSubplot at 0x1f4a572e948>"
      ]
     },
     "execution_count": 23,
     "metadata": {},
     "output_type": "execute_result"
    },
    {
     "data": {
      "image/png": "[encoded data removed]",
      "text/plain": [
       "<Figure size 576x288 with 1 Axes>"
      ]
     },
     "metadata": {},
     "output_type": "display_data"
    }
   ],
   "source": [
    "# Deaths by city\n",
    "df.groupby(['City'])['Deceased'].count().reset_index(name='deaths').plot(kind='bar',x='City',legend=False)"
   ]
  },
  {
   "cell_type": "code",
   "execution_count": 24,
   "metadata": {
    "ExecuteTime": {
     "end_time": "2020-04-20T15:31:56.785912Z",
     "start_time": "2020-04-20T15:31:55.940427Z"
    }
   },
   "outputs": [
    {
     "data": {
      "text/plain": [
       "Text(0, 0.5, 'Number of deceased')"
      ]
     },
     "execution_count": 24,
     "metadata": {},
     "output_type": "execute_result"
    },
    {
     "data": {
      "image/png": "[encoded data removed]",
      "text/plain": [
       "<Figure size 576x288 with 1 Axes>"
      ]
     },
     "metadata": {},
     "output_type": "display_data"
    }
   ],
   "source": [
    "# Deaths by gender \n",
    "\n",
    "df['Name'].str.rsplit(' ', n=2, expand=True)[0].value_counts()\n",
    "gender = {'Mr.':\"M\",'Ms.':\"F\",'Master':\"M\",'Miss':\"F\"}\n",
    "df['Name'] = df['Name'].str.rsplit(' ', n=0, expand=True)\n",
    "df['Name'] = [gender[item] for item in df['Name']]\n",
    "df.rename(columns = {'Name':'Gender'},inplace=True)\n",
    "\n",
    "ax = df.groupby(['Gender'])['Deceased'].count().plot(kind='bar',x='City',legend= False,title='Deceased by Gender')\n",
    "ax.set_ylabel('Number of deceased')\n"
   ]
  },
  {
   "cell_type": "markdown",
   "metadata": {},
   "source": [
    "# Data Preparation"
   ]
  },
  {
   "cell_type": "code",
   "execution_count": null,
   "metadata": {},
   "outputs": [],
   "source": [
    "# check NaN values \n",
    "df.isnull().sum()"
   ]
  },
  {
   "cell_type": "code",
   "execution_count": null,
   "metadata": {},
   "outputs": [],
   "source": [
    "# check unique medical tent values \n",
    "df['Medical_Tent'].unique()"
   ]
  },
  {
   "cell_type": "code",
   "execution_count": null,
   "metadata": {},
   "outputs": [],
   "source": [
    "# it might make sense to treat NaN values as an extra category, as this could potentially hold information about the target variable\n",
    "# so let's replace NaN with \"n/a\"\n",
    "df['Medical_Tent'] = df['Medical_Tent'].replace(np.nan, 'n/a', regex=True)"
   ]
  },
  {
   "cell_type": "code",
   "execution_count": null,
   "metadata": {},
   "outputs": [],
   "source": [
    "# need to decide what to do with these..\n",
    "df[df['Birthday_year'].isna()]"
   ]
  },
  {
   "cell_type": "code",
   "execution_count": null,
   "metadata": {},
   "outputs": [],
   "source": [
    "# check missing city \n",
    "df[df['City'].isna()]\n",
    "# since we only have two records, we can just drop them \n",
    "df = df[df['City'].notna()]"
   ]
  },
  {
   "cell_type": "code",
   "execution_count": null,
   "metadata": {},
   "outputs": [],
   "source": [
    "df.shape"
   ]
  },
  {
   "cell_type": "code",
   "execution_count": null,
   "metadata": {},
   "outputs": [],
   "source": [
    "# check target variable distribution\n",
    "df['Deceased'].value_counts().plot(kind='bar')"
   ]
  },
  {
   "cell_type": "code",
   "execution_count": null,
   "metadata": {},
   "outputs": [],
   "source": [
    "# check exact target distrubtion (in %)\n",
    "print(round(df['Deceased'].value_counts()/df['Deceased'].count()*100, 2))"
   ]
  },
  {
   "cell_type": "code",
   "execution_count": null,
   "metadata": {},
   "outputs": [],
   "source": [
    "# Check if family members live all in same city: MOSTLY TRUE\n",
    "df[[\"Family_Case_ID\", \"City\"]].groupby(\"Family_Case_ID\").agg({\"City\": lambda x: len(x.unique())})[\"City\"].value_counts()"
   ]
  },
  {
   "cell_type": "code",
   "execution_count": null,
   "metadata": {},
   "outputs": [],
   "source": [
    "# Check if family medical expenses are same for all family members: TRUE\n",
    "# We will transform this feature to ExpensesPerPerson to standardize to patient level\n",
    "df[(df.Family_Case_ID == df.Family_Case_ID) & (df.Medical_Expenses_Family != df.Medical_Expenses_Family )]"
   ]
  },
  {
   "cell_type": "code",
   "execution_count": null,
   "metadata": {},
   "outputs": [],
   "source": [
    "# Check if patient with unique family case ID hase infected family members: TRUE\n",
    "# We have to consider this when we create AvgSeverityOfOtherFamilyMembers and ProportionDeceasedOtherFamilyMembers \n",
    "familycase_singles = family_sizes[family_sizes == 1].index.values\n",
    "print(df.loc[df.Family_Case_ID.isin(familycase_singles), \"Parents or siblings infected\"].value_counts())\n",
    "print(df.loc[df.Family_Case_ID.isin(familycase_singles),  \"Wife/Husband or children infected\" ].value_counts())"
   ]
  },
  {
   "cell_type": "markdown",
   "metadata": {},
   "source": [
    "#### Encoding"
   ]
  },
  {
   "cell_type": "code",
   "execution_count": null,
   "metadata": {},
   "outputs": [],
   "source": [
    "# reset index to avoid issues in further joins\n",
    "df.reset_index(inplace = True)\n",
    "\n",
    "# define columns with categorical variables\n",
    "cat_columns = ['Medical_Tent', 'City']\n",
    "\n",
    "# create new dataframe with numerical columns only\n",
    "df_label_encoded = df[df.columns[~df.columns.isin(cat_columns)]].copy()\n",
    "\n",
    "# will be used as final encoded dataframe\n",
    "df_encoded = df.copy()\n",
    "\n",
    "# For each categorical column we fit a label encoder, then one-hot encode that column, \n",
    "# and append the new columns to our dataframe\n",
    "\n",
    "label_encoders = {}\n",
    "ohe_encoders = {}\n",
    "\n",
    "for col in cat_columns:\n",
    "    #print(\"Encoding {}\".format(col))\n",
    "    new_le = preprocessing.LabelEncoder()\n",
    "    df_label_encoded[col] = new_le.fit_transform(df[col])\n",
    "    label_encoders[col] = new_le\n",
    "    \n",
    "    new_ohe = tent_ohe = preprocessing.OneHotEncoder()\n",
    "    x = new_ohe.fit_transform(df[col].values.reshape(-1,1)).toarray()\n",
    "    \n",
    "    df_onehot = pd.DataFrame(x, columns = [col +str(label_encoders[col].classes_[i]) for i in range(x.shape[1])])\n",
    "    df_encoded = pd.concat([df_encoded, df_onehot], axis=1)"
   ]
  },
  {
   "cell_type": "code",
   "execution_count": null,
   "metadata": {},
   "outputs": [],
   "source": [
    "df_encoded.head()"
   ]
  },
  {
   "cell_type": "code",
   "execution_count": null,
   "metadata": {},
   "outputs": [],
   "source": [
    "# exclude the categorical columns\n",
    "df_encoded = df_encoded[df_encoded.columns[~df_encoded.columns.isin(cat_columns)]]"
   ]
  },
  {
   "cell_type": "code",
   "execution_count": null,
   "metadata": {},
   "outputs": [],
   "source": []
  },
  {
   "cell_type": "code",
   "execution_count": null,
   "metadata": {},
   "outputs": [],
   "source": []
  },
  {
   "cell_type": "markdown",
   "metadata": {},
   "source": [
    "# Feature Engineering & Selection"
   ]
  },
  {
   "cell_type": "code",
   "execution_count": null,
   "metadata": {},
   "outputs": [],
   "source": [
    "# Average Severity of other family members, excluding patient\n",
    "df[\"AvgSeverityOfOtherFamilyMembers\"] = [\n",
    "    df[(df.Family_Case_ID == df.loc[pid, \"Family_Case_ID\"]) & (~df.index.isin([pid]))].Severity.mean() #family members\n",
    "    if df.loc[pid, \"Family_Case_ID\"] not in familycase_singles\n",
    "    else df.Severity.mean() # singles with infected family members\n",
    "    if df.loc[pid, [\"Parents or siblings infected\",\"Wife/Husband or children infected\"]].sum() > 0\n",
    "    else 0 # singles with no infected family members                     \n",
    "    for pid in df.index.values]\n",
    "\n",
    "# Proportion deceased of other family members, excluding patient\n",
    "df[\"ProportionDeceasedOtherFamilyMembers\"] = [\n",
    "    df[(df.Family_Case_ID == df.loc[pid, \"Family_Case_ID\"]) & (~df.index.isin([pid]))].Deceased.mean() #family members\n",
    "    if df.loc[pid, \"Family_Case_ID\"] not in familycase_singles\n",
    "    else df.Deceased.mean() # singles with infected family members\n",
    "    if df.loc[pid, [\"Parents or siblings infected\",\"Wife/Husband or children infected\"]].sum() > 0\n",
    "    else 0 # singles with no infected family members                     \n",
    "    for pid in df.index.values]"
   ]
  },
  {
   "cell_type": "code",
   "execution_count": null,
   "metadata": {},
   "outputs": [],
   "source": [
    "print(df[\"AvgSeverityOfOtherFamilyMembers\"].value_counts())\n",
    "print(df[\"ProportionDeceasedOtherFamilyMembers\"].value_counts())"
   ]
  },
  {
   "cell_type": "markdown",
   "metadata": {},
   "source": [
    "# Modeling"
   ]
  },
  {
   "cell_type": "code",
   "execution_count": null,
   "metadata": {},
   "outputs": [],
   "source": []
  }
 ],
 "metadata": {
  "kernelspec": {
   "display_name": "Python 3",
   "language": "python",
   "name": "python3"
  },
  "language_info": {
   "codemirror_mode": {
    "name": "ipython",
    "version": 3
   },
   "file_extension": ".py",
   "mimetype": "text/x-python",
   "name": "python",
   "nbconvert_exporter": "python",
   "pygments_lexer": "ipython3",
   "version": "3.7.4"
  },
  "toc": {
   "base_numbering": 1,
   "nav_menu": {},
   "number_sections": true,
   "sideBar": true,
   "skip_h1_title": false,
   "title_cell": "Table of Contents",
   "title_sidebar": "Contents",
   "toc_cell": false,
   "toc_position": {},
   "toc_section_display": true,
   "toc_window_display": false
  },
  "varInspector": {
   "cols": {
    "lenName": 16,
    "lenType": 16,
    "lenVar": 40
   },
   "kernels_config": {
    "python": {
     "delete_cmd_postfix": "",
     "delete_cmd_prefix": "del ",
     "library": "var_list.py",
     "varRefreshCmd": "print(var_dic_list())"
    },
    "r": {
     "delete_cmd_postfix": ") ",
     "delete_cmd_prefix": "rm(",
     "library": "var_list.r",
     "varRefreshCmd": "cat(var_dic_list()) "
    }
   },
   "types_to_exclude": [
    "module",
    "function",
    "builtin_function_or_method",
    "instance",
    "_Feature"
   ],
   "window_display": false
  }
 },
 "nbformat": 4,
 "nbformat_minor": 2
}
