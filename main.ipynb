{
 "cells": [
  {
   "cell_type": "code",
   "execution_count": 3,
   "metadata": {
    "ExecuteTime": {
     "end_time": "2020-04-27T16:39:09.054054Z",
     "start_time": "2020-04-27T16:39:00.157512Z"
    }
   },
   "outputs": [],
   "source": [
    "import numpy as np\n",
    "import pandas as pd\n",
    "import matplotlib.pyplot as plt\n",
    "import seaborn as sns\n",
    "from sklearn.preprocessing import MinMaxScaler, StandardScaler, RobustScaler\n",
    "import plotly.offline as po \n",
    "import plotly.graph_objects as go\n",
    "import plotly.express as px\n",
    "from plotly.subplots import make_subplots\n",
    "from sklearn.preprocessing import OneHotEncoder\n",
    "from sklearn import preprocessing\n",
    "from sklearn.preprocessing import OrdinalEncoder\n",
    "from sklearn.model_selection import train_test_split\n",
    "from sklearn import metrics\n",
    "import itertools\n",
    "from sklearn.feature_selection import RFE\n",
    "from sklearn.linear_model import LassoCV\n",
    "from sklearn.linear_model import RidgeCV\n",
    "from sklearn.linear_model import LogisticRegression\n",
    "from sklearn.ensemble import RandomForestClassifier\n",
    "from sklearn.ensemble import GradientBoostingClassifier\n",
    "from sklearn.neural_network import MLPClassifier\n",
    "import warnings\n",
    "warnings.filterwarnings('ignore')"
   ]
  },
  {
   "cell_type": "code",
   "execution_count": 5,
   "metadata": {
    "ExecuteTime": {
     "end_time": "2020-04-27T16:40:00.274277Z",
     "start_time": "2020-04-27T16:40:00.243360Z"
    }
   },
   "outputs": [],
   "source": [
    "df = pd.read_csv(\"train.csv\")"
   ]
  },
  {
   "cell_type": "markdown",
   "metadata": {},
   "source": [
    "# 1. Data Understanding\n",
    "\n",
    "In the following section we will explore the data by looking at descriptive statistics and visualizations, in order to understand our features' distribution, identify outliers, and reveal any data issues (e.g. missing values) that might exist. "
   ]
  },
  {
   "cell_type": "code",
   "execution_count": 6,
   "metadata": {
    "ExecuteTime": {
     "end_time": "2020-04-27T16:40:01.576700Z",
     "start_time": "2020-04-27T16:40:01.522847Z"
    }
   },
   "outputs": [
    {
     "data": {
      "text/html": [
       "<div>\n",
       "<style scoped>\n",
       "    .dataframe tbody tr th:only-of-type {\n",
       "        vertical-align: middle;\n",
       "    }\n",
       "\n",
       "    .dataframe tbody tr th {\n",
       "        vertical-align: top;\n",
       "    }\n",
       "\n",
       "    .dataframe thead th {\n",
       "        text-align: right;\n",
       "    }\n",
       "</style>\n",
       "<table border=\"1\" class=\"dataframe\">\n",
       "  <thead>\n",
       "    <tr style=\"text-align: right;\">\n",
       "      <th></th>\n",
       "      <th>Patient_ID</th>\n",
       "      <th>Family_Case_ID</th>\n",
       "      <th>Severity</th>\n",
       "      <th>Name</th>\n",
       "      <th>Birthday_year</th>\n",
       "      <th>Parents or siblings infected</th>\n",
       "      <th>Wife/Husband or children infected</th>\n",
       "      <th>Medical_Expenses_Family</th>\n",
       "      <th>Medical_Tent</th>\n",
       "      <th>City</th>\n",
       "      <th>Deceased</th>\n",
       "    </tr>\n",
       "  </thead>\n",
       "  <tbody>\n",
       "    <tr>\n",
       "      <td>0</td>\n",
       "      <td>1</td>\n",
       "      <td>4696</td>\n",
       "      <td>3</td>\n",
       "      <td>Miss Linda Betty</td>\n",
       "      <td>NaN</td>\n",
       "      <td>0</td>\n",
       "      <td>0</td>\n",
       "      <td>225</td>\n",
       "      <td>NaN</td>\n",
       "      <td>Santa Fe</td>\n",
       "      <td>1</td>\n",
       "    </tr>\n",
       "    <tr>\n",
       "      <td>1</td>\n",
       "      <td>2</td>\n",
       "      <td>21436</td>\n",
       "      <td>1</td>\n",
       "      <td>Ms. Ramona Elvira</td>\n",
       "      <td>1966.0</td>\n",
       "      <td>0</td>\n",
       "      <td>1</td>\n",
       "      <td>1663</td>\n",
       "      <td>NaN</td>\n",
       "      <td>Albuquerque</td>\n",
       "      <td>0</td>\n",
       "    </tr>\n",
       "    <tr>\n",
       "      <td>2</td>\n",
       "      <td>3</td>\n",
       "      <td>7273</td>\n",
       "      <td>3</td>\n",
       "      <td>Mr. Mario Vernon</td>\n",
       "      <td>1982.0</td>\n",
       "      <td>0</td>\n",
       "      <td>0</td>\n",
       "      <td>221</td>\n",
       "      <td>NaN</td>\n",
       "      <td>Santa Fe</td>\n",
       "      <td>1</td>\n",
       "    </tr>\n",
       "    <tr>\n",
       "      <td>3</td>\n",
       "      <td>4</td>\n",
       "      <td>8226</td>\n",
       "      <td>3</td>\n",
       "      <td>Mr. Hector Joe</td>\n",
       "      <td>1997.0</td>\n",
       "      <td>0</td>\n",
       "      <td>0</td>\n",
       "      <td>220</td>\n",
       "      <td>NaN</td>\n",
       "      <td>Santa Fe</td>\n",
       "      <td>1</td>\n",
       "    </tr>\n",
       "    <tr>\n",
       "      <td>4</td>\n",
       "      <td>5</td>\n",
       "      <td>19689</td>\n",
       "      <td>3</td>\n",
       "      <td>Ms. Jennie Debra</td>\n",
       "      <td>1994.0</td>\n",
       "      <td>0</td>\n",
       "      <td>0</td>\n",
       "      <td>222</td>\n",
       "      <td>NaN</td>\n",
       "      <td>Santa Fe</td>\n",
       "      <td>0</td>\n",
       "    </tr>\n",
       "  </tbody>\n",
       "</table>\n",
       "</div>"
      ],
      "text/plain": [
       "   Patient_ID  Family_Case_ID  Severity               Name  Birthday_year  \\\n",
       "0           1            4696         3   Miss Linda Betty            NaN   \n",
       "1           2           21436         1  Ms. Ramona Elvira         1966.0   \n",
       "2           3            7273         3   Mr. Mario Vernon         1982.0   \n",
       "3           4            8226         3     Mr. Hector Joe         1997.0   \n",
       "4           5           19689         3   Ms. Jennie Debra         1994.0   \n",
       "\n",
       "   Parents or siblings infected  Wife/Husband or children infected  \\\n",
       "0                             0                                  0   \n",
       "1                             0                                  1   \n",
       "2                             0                                  0   \n",
       "3                             0                                  0   \n",
       "4                             0                                  0   \n",
       "\n",
       "   Medical_Expenses_Family Medical_Tent         City  Deceased  \n",
       "0                      225          NaN     Santa Fe         1  \n",
       "1                     1663          NaN  Albuquerque         0  \n",
       "2                      221          NaN     Santa Fe         1  \n",
       "3                      220          NaN     Santa Fe         1  \n",
       "4                      222          NaN     Santa Fe         0  "
      ]
     },
     "execution_count": 6,
     "metadata": {},
     "output_type": "execute_result"
    }
   ],
   "source": [
    "df.head()"
   ]
  },
  {
   "cell_type": "code",
   "execution_count": 7,
   "metadata": {
    "ExecuteTime": {
     "end_time": "2020-04-27T16:40:04.121485Z",
     "start_time": "2020-04-27T16:40:04.096549Z"
    }
   },
   "outputs": [
    {
     "name": "stdout",
     "output_type": "stream",
     "text": [
      "900\n"
     ]
    }
   ],
   "source": [
    "print(len(df.Patient_ID.unique())) #Check if Patient_ID can be used as index\n",
    "df = df.set_index(\"Patient_ID\")"
   ]
  },
  {
   "cell_type": "code",
   "execution_count": 8,
   "metadata": {
    "ExecuteTime": {
     "end_time": "2020-04-27T16:40:05.691731Z",
     "start_time": "2020-04-27T16:40:05.591996Z"
    },
    "scrolled": true
   },
   "outputs": [
    {
     "data": {
      "text/html": [
       "<div>\n",
       "<style scoped>\n",
       "    .dataframe tbody tr th:only-of-type {\n",
       "        vertical-align: middle;\n",
       "    }\n",
       "\n",
       "    .dataframe tbody tr th {\n",
       "        vertical-align: top;\n",
       "    }\n",
       "\n",
       "    .dataframe thead th {\n",
       "        text-align: right;\n",
       "    }\n",
       "</style>\n",
       "<table border=\"1\" class=\"dataframe\">\n",
       "  <thead>\n",
       "    <tr style=\"text-align: right;\">\n",
       "      <th></th>\n",
       "      <th>Family_Case_ID</th>\n",
       "      <th>Severity</th>\n",
       "      <th>Birthday_year</th>\n",
       "      <th>Parents or siblings infected</th>\n",
       "      <th>Wife/Husband or children infected</th>\n",
       "      <th>Medical_Expenses_Family</th>\n",
       "      <th>Deceased</th>\n",
       "    </tr>\n",
       "  </thead>\n",
       "  <tbody>\n",
       "    <tr>\n",
       "      <td>count</td>\n",
       "      <td>900.000000</td>\n",
       "      <td>900.000000</td>\n",
       "      <td>723.000000</td>\n",
       "      <td>900.000000</td>\n",
       "      <td>900.000000</td>\n",
       "      <td>900.000000</td>\n",
       "      <td>900.000000</td>\n",
       "    </tr>\n",
       "    <tr>\n",
       "      <td>mean</td>\n",
       "      <td>14305.827778</td>\n",
       "      <td>2.313333</td>\n",
       "      <td>1990.266943</td>\n",
       "      <td>0.380000</td>\n",
       "      <td>0.521111</td>\n",
       "      <td>895.743333</td>\n",
       "      <td>0.614444</td>\n",
       "    </tr>\n",
       "    <tr>\n",
       "      <td>std</td>\n",
       "      <td>25418.153900</td>\n",
       "      <td>0.834223</td>\n",
       "      <td>14.523335</td>\n",
       "      <td>0.803247</td>\n",
       "      <td>1.098385</td>\n",
       "      <td>1385.829926</td>\n",
       "      <td>0.486997</td>\n",
       "    </tr>\n",
       "    <tr>\n",
       "      <td>min</td>\n",
       "      <td>345.000000</td>\n",
       "      <td>1.000000</td>\n",
       "      <td>1940.000000</td>\n",
       "      <td>0.000000</td>\n",
       "      <td>0.000000</td>\n",
       "      <td>0.000000</td>\n",
       "      <td>0.000000</td>\n",
       "    </tr>\n",
       "    <tr>\n",
       "      <td>25%</td>\n",
       "      <td>8203.000000</td>\n",
       "      <td>2.000000</td>\n",
       "      <td>1982.000000</td>\n",
       "      <td>0.000000</td>\n",
       "      <td>0.000000</td>\n",
       "      <td>221.000000</td>\n",
       "      <td>0.000000</td>\n",
       "    </tr>\n",
       "    <tr>\n",
       "      <td>50%</td>\n",
       "      <td>13593.500000</td>\n",
       "      <td>3.000000</td>\n",
       "      <td>1992.000000</td>\n",
       "      <td>0.000000</td>\n",
       "      <td>0.000000</td>\n",
       "      <td>405.000000</td>\n",
       "      <td>1.000000</td>\n",
       "    </tr>\n",
       "    <tr>\n",
       "      <td>75%</td>\n",
       "      <td>18906.500000</td>\n",
       "      <td>3.000000</td>\n",
       "      <td>1999.500000</td>\n",
       "      <td>0.000000</td>\n",
       "      <td>1.000000</td>\n",
       "      <td>861.250000</td>\n",
       "      <td>1.000000</td>\n",
       "    </tr>\n",
       "    <tr>\n",
       "      <td>max</td>\n",
       "      <td>742836.000000</td>\n",
       "      <td>3.000000</td>\n",
       "      <td>2019.000000</td>\n",
       "      <td>6.000000</td>\n",
       "      <td>8.000000</td>\n",
       "      <td>14345.000000</td>\n",
       "      <td>1.000000</td>\n",
       "    </tr>\n",
       "  </tbody>\n",
       "</table>\n",
       "</div>"
      ],
      "text/plain": [
       "       Family_Case_ID    Severity  Birthday_year  \\\n",
       "count      900.000000  900.000000     723.000000   \n",
       "mean     14305.827778    2.313333    1990.266943   \n",
       "std      25418.153900    0.834223      14.523335   \n",
       "min        345.000000    1.000000    1940.000000   \n",
       "25%       8203.000000    2.000000    1982.000000   \n",
       "50%      13593.500000    3.000000    1992.000000   \n",
       "75%      18906.500000    3.000000    1999.500000   \n",
       "max     742836.000000    3.000000    2019.000000   \n",
       "\n",
       "       Parents or siblings infected  Wife/Husband or children infected  \\\n",
       "count                    900.000000                         900.000000   \n",
       "mean                       0.380000                           0.521111   \n",
       "std                        0.803247                           1.098385   \n",
       "min                        0.000000                           0.000000   \n",
       "25%                        0.000000                           0.000000   \n",
       "50%                        0.000000                           0.000000   \n",
       "75%                        0.000000                           1.000000   \n",
       "max                        6.000000                           8.000000   \n",
       "\n",
       "       Medical_Expenses_Family    Deceased  \n",
       "count               900.000000  900.000000  \n",
       "mean                895.743333    0.614444  \n",
       "std                1385.829926    0.486997  \n",
       "min                   0.000000    0.000000  \n",
       "25%                 221.000000    0.000000  \n",
       "50%                 405.000000    1.000000  \n",
       "75%                 861.250000    1.000000  \n",
       "max               14345.000000    1.000000  "
      ]
     },
     "execution_count": 8,
     "metadata": {},
     "output_type": "execute_result"
    }
   ],
   "source": [
    "df.describe()"
   ]
  },
  {
   "cell_type": "markdown",
   "metadata": {},
   "source": [
    "These statistics indicate that it suffices to look at `Birthday_Year` and `Medical_Expenses_Family` for potential outliers. The other features do not seem to have any strange values. "
   ]
  },
  {
   "cell_type": "code",
   "execution_count": 9,
   "metadata": {
    "ExecuteTime": {
     "end_time": "2020-04-27T16:40:11.950754Z",
     "start_time": "2020-04-27T16:40:08.261682Z"
    }
   },
   "outputs": [
    {
     "data": {
      "text/plain": [
       "<matplotlib.axes._subplots.AxesSubplot at 0x1d0c8cd6f48>"
      ]
     },
     "execution_count": 9,
     "metadata": {},
     "output_type": "execute_result"
    },
    {
     "data": {
      "image/png": "[encoded data removed]",
      "text/plain": [
       "<Figure size 1080x576 with 4 Axes>"
      ]
     },
     "metadata": {
      "needs_background": "light"
     },
     "output_type": "display_data"
    }
   ],
   "source": [
    "# Boxplot age \n",
    "palette = ['lightcoral', 'deepskyblue']\n",
    "\n",
    "f = plt.figure(figsize=(15, 8))\n",
    "gs = f.add_gridspec(2,2)\n",
    "\n",
    "ax = f.add_subplot(gs[0, 0])\n",
    "sns.boxplot(data=df, x = 'Birthday_year', orient = 'h', color = 'gray')\n",
    "\n",
    "ax = f.add_subplot(gs[0, 1])\n",
    "sns.boxplot(data=df, x = 'Birthday_year', y = 'Deceased', orient = 'h', palette = palette)\n",
    "\n",
    "ax = f.add_subplot(gs[1, 0])\n",
    "sns.boxplot(data=df, x = 'Medical_Expenses_Family', orient = 'h', color = 'gray')\n",
    "\n",
    "ax = f.add_subplot(gs[1, 1])\n",
    "sns.boxplot(data=df, x = 'Medical_Expenses_Family', y = 'Deceased', orient = 'h', palette = palette)"
   ]
  },
  {
   "cell_type": "markdown",
   "metadata": {},
   "source": [
    "**Interpretation**:\n",
    "- we can see some (potential) outliers in both features\n",
    "- the `Age` distribution doesn't seem to be that great at separating the target classes, while the `Medical_Expenses_Family` definitely illustrates some differences "
   ]
  },
  {
   "cell_type": "code",
   "execution_count": 10,
   "metadata": {
    "ExecuteTime": {
     "end_time": "2020-04-27T16:40:12.204076Z",
     "start_time": "2020-04-27T16:40:12.184131Z"
    }
   },
   "outputs": [
    {
     "data": {
      "text/plain": [
       "Family_Case_ID                         0\n",
       "Severity                               0\n",
       "Name                                   0\n",
       "Birthday_year                        177\n",
       "Parents or siblings infected           0\n",
       "Wife/Husband or children infected      0\n",
       "Medical_Expenses_Family                0\n",
       "Medical_Tent                         702\n",
       "City                                   2\n",
       "Deceased                               0\n",
       "dtype: int64"
      ]
     },
     "execution_count": 10,
     "metadata": {},
     "output_type": "execute_result"
    }
   ],
   "source": [
    "# Number of Nan values \n",
    "df.isna().sum()"
   ]
  },
  {
   "cell_type": "markdown",
   "metadata": {},
   "source": [
    "There are a lot of medical tent nan values. Medical tent it is basically the tent where the patient has been cured.. don't know how useful it is.. \n"
   ]
  },
  {
   "cell_type": "code",
   "execution_count": 11,
   "metadata": {
    "ExecuteTime": {
     "end_time": "2020-04-27T16:40:19.892731Z",
     "start_time": "2020-04-27T16:40:16.075853Z"
    }
   },
   "outputs": [
    {
     "data": {
      "text/plain": [
       "<matplotlib.axes._subplots.AxesSubplot at 0x1d0c8d83e88>"
      ]
     },
     "execution_count": 11,
     "metadata": {},
     "output_type": "execute_result"
    },
    {
     "data": {
      "image/png": "[encoded data removed]",
      "text/plain": [
       "<Figure size 576x288 with 2 Axes>"
      ]
     },
     "metadata": {},
     "output_type": "display_data"
    }
   ],
   "source": [
    "# Creating the correlation matrix \n",
    "pearson_corr_matrix=df.corr('pearson').round(decimals=2)\n",
    "sns.set(rc={'figure.figsize':(8,4)})\n",
    "sns.heatmap(pearson_corr_matrix,\n",
    "        xticklabels=pearson_corr_matrix.columns,\n",
    "        yticklabels=pearson_corr_matrix.columns, \n",
    "        annot=True, \n",
    "        linewidths=.5, \n",
    "        vmin = -1,\n",
    "        vmax = 1,\n",
    "        cmap=sns.diverging_palette(-10, 240, sep=70, n=7))\n"
   ]
  },
  {
   "cell_type": "markdown",
   "metadata": {},
   "source": [
    "Pretty weird the fact that there's an high negative correlation between medical expenss and severity.. I would have thought the contrary, the most is severe the most on meds you would spend. Normal to see birthday year and severity in positive correlation and the same for parents or sibilings and wife/husband. "
   ]
  },
  {
   "cell_type": "code",
   "execution_count": 12,
   "metadata": {
    "ExecuteTime": {
     "end_time": "2020-04-27T16:40:20.055250Z",
     "start_time": "2020-04-27T16:40:20.046273Z"
    }
   },
   "outputs": [],
   "source": [
    "numerical_var = [\"Severity\",\"Parents or siblings infected\", \"Wife/Husband or children infected\", \"Medical_Expenses_Family\"]"
   ]
  },
  {
   "cell_type": "code",
   "execution_count": 13,
   "metadata": {
    "ExecuteTime": {
     "end_time": "2020-04-27T16:40:27.689998Z",
     "start_time": "2020-04-27T16:40:20.534175Z"
    }
   },
   "outputs": [
    {
     "data": {
      "image/png": "[encoded data removed]",
      "text/plain": [
       "<Figure size 720x576 with 4 Axes>"
      ]
     },
     "metadata": {},
     "output_type": "display_data"
    }
   ],
   "source": [
    "# Histograms for all numeric variables\n",
    "sns.set(rc={'figure.figsize':(10,8)})\n",
    "df[numerical_var].hist(bins=15, layout=(2, 2), xlabelsize=8, ylabelsize=8, color = 'gray');"
   ]
  },
  {
   "cell_type": "code",
   "execution_count": 14,
   "metadata": {
    "ExecuteTime": {
     "end_time": "2020-04-27T16:40:27.727897Z",
     "start_time": "2020-04-27T16:40:27.696980Z"
    }
   },
   "outputs": [
    {
     "name": "stdout",
     "output_type": "stream",
     "text": [
      "675\n"
     ]
    },
    {
     "data": {
      "text/plain": [
       "1    530\n",
       "2    102\n",
       "3     24\n",
       "4     10\n",
       "7      3\n",
       "6      3\n",
       "5      3\n",
       "Name: Family_Case_ID, dtype: int64"
      ]
     },
     "execution_count": 14,
     "metadata": {},
     "output_type": "execute_result"
    }
   ],
   "source": [
    "# Family sizes\n",
    "print(len(df.Family_Case_ID.unique()))\n",
    "pd.Series(df.Family_Case_ID.value_counts()).value_counts()"
   ]
  },
  {
   "cell_type": "code",
   "execution_count": 15,
   "metadata": {
    "ExecuteTime": {
     "end_time": "2020-04-27T16:40:29.582723Z",
     "start_time": "2020-04-27T16:40:28.095913Z"
    }
   },
   "outputs": [
    {
     "data": {
      "text/plain": [
       "Text(0, 0.5, 'Frequency')"
      ]
     },
     "execution_count": 15,
     "metadata": {},
     "output_type": "execute_result"
    },
    {
     "data": {
      "image/png": "[encoded data removed]",
      "text/plain": [
       "<Figure size 432x288 with 1 Axes>"
      ]
     },
     "metadata": {},
     "output_type": "display_data"
    }
   ],
   "source": [
    "# Plotting how big the family are, most of them just 1/2\n",
    "families = df.groupby([\"Family_Case_ID\"])[\"Family_Case_ID\"].count().reset_index(name='count').sort_values(by='count')\n",
    "\n",
    "sns.set(rc={'figure.figsize':(6,4)})\n",
    "ax = families.plot(x='Family_Case_ID', y ='count' , kind=\"hist\",legend= False, title = \"Families by number of members\",bins=7, color = 'gray')\n",
    "ax.set_xlabel(\"Number of family members\")\n",
    "ax.set_ylabel(\"Frequency\")"
   ]
  },
  {
   "cell_type": "code",
   "execution_count": 16,
   "metadata": {
    "ExecuteTime": {
     "end_time": "2020-04-27T16:40:31.594214Z",
     "start_time": "2020-04-27T16:40:29.870952Z"
    }
   },
   "outputs": [
    {
     "data": {
      "text/plain": [
       "<seaborn.axisgrid.FacetGrid at 0x1d0c8776b88>"
      ]
     },
     "execution_count": 16,
     "metadata": {},
     "output_type": "execute_result"
    },
    {
     "data": {
      "image/png": "[encoded data removed]",
      "text/plain": [
       "<Figure size 414.675x360 with 1 Axes>"
      ]
     },
     "metadata": {},
     "output_type": "display_data"
    }
   ],
   "source": [
    "# Deceased & non-deceased per city\n",
    "sns.catplot(data = df, x = 'City', hue = 'Deceased', kind = 'count', palette = palette).set(ylabel = '# of people')"
   ]
  },
  {
   "cell_type": "code",
   "execution_count": 17,
   "metadata": {
    "ExecuteTime": {
     "end_time": "2020-04-27T16:40:33.849193Z",
     "start_time": "2020-04-27T16:40:31.804193Z"
    }
   },
   "outputs": [
    {
     "data": {
      "text/plain": [
       "<seaborn.axisgrid.FacetGrid at 0x1d0c9387ec8>"
      ]
     },
     "execution_count": 17,
     "metadata": {},
     "output_type": "execute_result"
    },
    {
     "data": {
      "image/png": "[encoded data removed]",
      "text/plain": [
       "<Figure size 414.675x360 with 1 Axes>"
      ]
     },
     "metadata": {},
     "output_type": "display_data"
    }
   ],
   "source": [
    "# Create gender \n",
    "df['Name'].str.rsplit(' ', n=2, expand=True)[0].value_counts()\n",
    "gender = {'Mr.':\"M\",'Ms.':\"F\",'Master':\"M\",'Miss':\"F\"}\n",
    "df['Name'] = df['Name'].str.rsplit(' ', n=0, expand=True)\n",
    "df['Name'] = [gender[item] for item in df['Name']]\n",
    "df.rename(columns = {'Name':'Gender'},inplace=True)\n",
    "\n",
    "sns.catplot(data = df, x = 'Gender', hue = 'Deceased', kind = 'count', palette = palette).set(ylabel = '# of people')"
   ]
  },
  {
   "cell_type": "markdown",
   "metadata": {},
   "source": [
    "# 2. Data Preparation"
   ]
  },
  {
   "cell_type": "markdown",
   "metadata": {},
   "source": [
    "## 2.1 NaN values elimination"
   ]
  },
  {
   "cell_type": "code",
   "execution_count": 18,
   "metadata": {
    "ExecuteTime": {
     "end_time": "2020-04-27T16:40:34.070724Z",
     "start_time": "2020-04-27T16:40:34.043798Z"
    }
   },
   "outputs": [
    {
     "data": {
      "text/plain": [
       "Family_Case_ID                         0\n",
       "Severity                               0\n",
       "Gender                                 0\n",
       "Birthday_year                        177\n",
       "Parents or siblings infected           0\n",
       "Wife/Husband or children infected      0\n",
       "Medical_Expenses_Family                0\n",
       "Medical_Tent                         702\n",
       "City                                   2\n",
       "Deceased                               0\n",
       "dtype: int64"
      ]
     },
     "execution_count": 18,
     "metadata": {},
     "output_type": "execute_result"
    }
   ],
   "source": [
    "# check NaN values \n",
    "df.isnull().sum()"
   ]
  },
  {
   "cell_type": "code",
   "execution_count": 19,
   "metadata": {
    "ExecuteTime": {
     "end_time": "2020-04-27T16:40:34.098653Z",
     "start_time": "2020-04-27T16:40:34.078705Z"
    }
   },
   "outputs": [
    {
     "data": {
      "text/plain": [
       "array([nan, 'F', 'B', 'A', 'E', 'C', 'D', 'G', 'T'], dtype=object)"
      ]
     },
     "execution_count": 19,
     "metadata": {},
     "output_type": "execute_result"
    }
   ],
   "source": [
    "# check unique medical tent values \n",
    "df['Medical_Tent'].unique()"
   ]
  },
  {
   "cell_type": "markdown",
   "metadata": {},
   "source": [
    "It might make sense to treat NaN values as an extra category, as this could potentially hold information about the target variable.<br>\n",
    "So let's replace NaN with \"n/a\". "
   ]
  },
  {
   "cell_type": "code",
   "execution_count": 20,
   "metadata": {
    "ExecuteTime": {
     "end_time": "2020-04-27T16:40:34.413576Z",
     "start_time": "2020-04-27T16:40:34.404601Z"
    }
   },
   "outputs": [],
   "source": [
    "df['Medical_Tent'] = df['Medical_Tent'].replace(np.nan, 'n/a', regex=True)"
   ]
  },
  {
   "cell_type": "code",
   "execution_count": 21,
   "metadata": {
    "ExecuteTime": {
     "end_time": "2020-04-27T16:40:34.643960Z",
     "start_time": "2020-04-27T16:40:34.584121Z"
    }
   },
   "outputs": [
    {
     "data": {
      "text/html": [
       "<div>\n",
       "<style scoped>\n",
       "    .dataframe tbody tr th:only-of-type {\n",
       "        vertical-align: middle;\n",
       "    }\n",
       "\n",
       "    .dataframe tbody tr th {\n",
       "        vertical-align: top;\n",
       "    }\n",
       "\n",
       "    .dataframe thead th {\n",
       "        text-align: right;\n",
       "    }\n",
       "</style>\n",
       "<table border=\"1\" class=\"dataframe\">\n",
       "  <thead>\n",
       "    <tr style=\"text-align: right;\">\n",
       "      <th></th>\n",
       "      <th>Family_Case_ID</th>\n",
       "      <th>Severity</th>\n",
       "      <th>Gender</th>\n",
       "      <th>Birthday_year</th>\n",
       "      <th>Parents or siblings infected</th>\n",
       "      <th>Wife/Husband or children infected</th>\n",
       "      <th>Medical_Expenses_Family</th>\n",
       "      <th>Medical_Tent</th>\n",
       "      <th>City</th>\n",
       "      <th>Deceased</th>\n",
       "    </tr>\n",
       "    <tr>\n",
       "      <th>Patient_ID</th>\n",
       "      <th></th>\n",
       "      <th></th>\n",
       "      <th></th>\n",
       "      <th></th>\n",
       "      <th></th>\n",
       "      <th></th>\n",
       "      <th></th>\n",
       "      <th></th>\n",
       "      <th></th>\n",
       "      <th></th>\n",
       "    </tr>\n",
       "  </thead>\n",
       "  <tbody>\n",
       "    <tr>\n",
       "      <td>1</td>\n",
       "      <td>4696</td>\n",
       "      <td>3</td>\n",
       "      <td>F</td>\n",
       "      <td>NaN</td>\n",
       "      <td>0</td>\n",
       "      <td>0</td>\n",
       "      <td>225</td>\n",
       "      <td>n/a</td>\n",
       "      <td>Santa Fe</td>\n",
       "      <td>1</td>\n",
       "    </tr>\n",
       "    <tr>\n",
       "      <td>6</td>\n",
       "      <td>17598</td>\n",
       "      <td>2</td>\n",
       "      <td>M</td>\n",
       "      <td>NaN</td>\n",
       "      <td>0</td>\n",
       "      <td>0</td>\n",
       "      <td>0</td>\n",
       "      <td>n/a</td>\n",
       "      <td>Santa Fe</td>\n",
       "      <td>1</td>\n",
       "    </tr>\n",
       "    <tr>\n",
       "      <td>10</td>\n",
       "      <td>14392</td>\n",
       "      <td>3</td>\n",
       "      <td>F</td>\n",
       "      <td>NaN</td>\n",
       "      <td>1</td>\n",
       "      <td>1</td>\n",
       "      <td>626</td>\n",
       "      <td>F</td>\n",
       "      <td>Albuquerque</td>\n",
       "      <td>0</td>\n",
       "    </tr>\n",
       "    <tr>\n",
       "      <td>15</td>\n",
       "      <td>6507</td>\n",
       "      <td>3</td>\n",
       "      <td>F</td>\n",
       "      <td>NaN</td>\n",
       "      <td>0</td>\n",
       "      <td>0</td>\n",
       "      <td>217</td>\n",
       "      <td>n/a</td>\n",
       "      <td>Taos</td>\n",
       "      <td>0</td>\n",
       "    </tr>\n",
       "    <tr>\n",
       "      <td>16</td>\n",
       "      <td>19174</td>\n",
       "      <td>3</td>\n",
       "      <td>M</td>\n",
       "      <td>NaN</td>\n",
       "      <td>0</td>\n",
       "      <td>0</td>\n",
       "      <td>211</td>\n",
       "      <td>n/a</td>\n",
       "      <td>Santa Fe</td>\n",
       "      <td>1</td>\n",
       "    </tr>\n",
       "    <tr>\n",
       "      <td>...</td>\n",
       "      <td>...</td>\n",
       "      <td>...</td>\n",
       "      <td>...</td>\n",
       "      <td>...</td>\n",
       "      <td>...</td>\n",
       "      <td>...</td>\n",
       "      <td>...</td>\n",
       "      <td>...</td>\n",
       "      <td>...</td>\n",
       "      <td>...</td>\n",
       "    </tr>\n",
       "    <tr>\n",
       "      <td>870</td>\n",
       "      <td>3539</td>\n",
       "      <td>3</td>\n",
       "      <td>M</td>\n",
       "      <td>NaN</td>\n",
       "      <td>0</td>\n",
       "      <td>0</td>\n",
       "      <td>423</td>\n",
       "      <td>n/a</td>\n",
       "      <td>Santa Fe</td>\n",
       "      <td>1</td>\n",
       "    </tr>\n",
       "    <tr>\n",
       "      <td>871</td>\n",
       "      <td>4275</td>\n",
       "      <td>3</td>\n",
       "      <td>M</td>\n",
       "      <td>NaN</td>\n",
       "      <td>0</td>\n",
       "      <td>0</td>\n",
       "      <td>202</td>\n",
       "      <td>n/a</td>\n",
       "      <td>Albuquerque</td>\n",
       "      <td>1</td>\n",
       "    </tr>\n",
       "    <tr>\n",
       "      <td>872</td>\n",
       "      <td>11524</td>\n",
       "      <td>1</td>\n",
       "      <td>M</td>\n",
       "      <td>NaN</td>\n",
       "      <td>0</td>\n",
       "      <td>0</td>\n",
       "      <td>0</td>\n",
       "      <td>n/a</td>\n",
       "      <td>Santa Fe</td>\n",
       "      <td>1</td>\n",
       "    </tr>\n",
       "    <tr>\n",
       "      <td>877</td>\n",
       "      <td>4392</td>\n",
       "      <td>3</td>\n",
       "      <td>M</td>\n",
       "      <td>NaN</td>\n",
       "      <td>0</td>\n",
       "      <td>0</td>\n",
       "      <td>216</td>\n",
       "      <td>n/a</td>\n",
       "      <td>Taos</td>\n",
       "      <td>1</td>\n",
       "    </tr>\n",
       "    <tr>\n",
       "      <td>887</td>\n",
       "      <td>3929</td>\n",
       "      <td>3</td>\n",
       "      <td>F</td>\n",
       "      <td>NaN</td>\n",
       "      <td>0</td>\n",
       "      <td>1</td>\n",
       "      <td>676</td>\n",
       "      <td>n/a</td>\n",
       "      <td>Taos</td>\n",
       "      <td>0</td>\n",
       "    </tr>\n",
       "  </tbody>\n",
       "</table>\n",
       "<p>177 rows × 10 columns</p>\n",
       "</div>"
      ],
      "text/plain": [
       "            Family_Case_ID  Severity Gender  Birthday_year  \\\n",
       "Patient_ID                                                   \n",
       "1                     4696         3      F            NaN   \n",
       "6                    17598         2      M            NaN   \n",
       "10                   14392         3      F            NaN   \n",
       "15                    6507         3      F            NaN   \n",
       "16                   19174         3      M            NaN   \n",
       "...                    ...       ...    ...            ...   \n",
       "870                   3539         3      M            NaN   \n",
       "871                   4275         3      M            NaN   \n",
       "872                  11524         1      M            NaN   \n",
       "877                   4392         3      M            NaN   \n",
       "887                   3929         3      F            NaN   \n",
       "\n",
       "            Parents or siblings infected  Wife/Husband or children infected  \\\n",
       "Patient_ID                                                                    \n",
       "1                                      0                                  0   \n",
       "6                                      0                                  0   \n",
       "10                                     1                                  1   \n",
       "15                                     0                                  0   \n",
       "16                                     0                                  0   \n",
       "...                                  ...                                ...   \n",
       "870                                    0                                  0   \n",
       "871                                    0                                  0   \n",
       "872                                    0                                  0   \n",
       "877                                    0                                  0   \n",
       "887                                    0                                  1   \n",
       "\n",
       "            Medical_Expenses_Family Medical_Tent         City  Deceased  \n",
       "Patient_ID                                                               \n",
       "1                               225          n/a     Santa Fe         1  \n",
       "6                                 0          n/a     Santa Fe         1  \n",
       "10                              626            F  Albuquerque         0  \n",
       "15                              217          n/a         Taos         0  \n",
       "16                              211          n/a     Santa Fe         1  \n",
       "...                             ...          ...          ...       ...  \n",
       "870                             423          n/a     Santa Fe         1  \n",
       "871                             202          n/a  Albuquerque         1  \n",
       "872                               0          n/a     Santa Fe         1  \n",
       "877                             216          n/a         Taos         1  \n",
       "887                             676          n/a         Taos         0  \n",
       "\n",
       "[177 rows x 10 columns]"
      ]
     },
     "execution_count": 21,
     "metadata": {},
     "output_type": "execute_result"
    }
   ],
   "source": [
    "# need to decide what to do with these..\n",
    "df[df['Birthday_year'].isna()]"
   ]
  },
  {
   "cell_type": "markdown",
   "metadata": {},
   "source": [
    "There are too many instances with a missing `Birthday_year`. So instead of removing them, we will replace the NaN values with -1. "
   ]
  },
  {
   "cell_type": "code",
   "execution_count": 22,
   "metadata": {
    "ExecuteTime": {
     "end_time": "2020-04-27T16:40:34.771619Z",
     "start_time": "2020-04-27T16:40:34.761643Z"
    }
   },
   "outputs": [],
   "source": [
    "df['Birthday_year'] = df['Birthday_year'].replace(np.nan, -1)"
   ]
  },
  {
   "cell_type": "code",
   "execution_count": 23,
   "metadata": {
    "ExecuteTime": {
     "end_time": "2020-04-27T16:40:34.791566Z",
     "start_time": "2020-04-27T16:40:34.776605Z"
    }
   },
   "outputs": [],
   "source": [
    "# check missing city \n",
    "df[df['City'].isna()]\n",
    "# since we only have two records, we can just drop them \n",
    "df = df[df['City'].notna()]"
   ]
  },
  {
   "cell_type": "code",
   "execution_count": 24,
   "metadata": {
    "ExecuteTime": {
     "end_time": "2020-04-27T16:40:35.034914Z",
     "start_time": "2020-04-27T16:40:35.026935Z"
    }
   },
   "outputs": [
    {
     "data": {
      "text/plain": [
       "(898, 10)"
      ]
     },
     "execution_count": 24,
     "metadata": {},
     "output_type": "execute_result"
    }
   ],
   "source": [
    "df.shape"
   ]
  },
  {
   "cell_type": "code",
   "execution_count": 25,
   "metadata": {
    "ExecuteTime": {
     "end_time": "2020-04-27T16:40:35.352191Z",
     "start_time": "2020-04-27T16:40:35.038903Z"
    }
   },
   "outputs": [
    {
     "data": {
      "text/plain": [
       "<matplotlib.axes._subplots.AxesSubplot at 0x1d0c94c1cc8>"
      ]
     },
     "execution_count": 25,
     "metadata": {},
     "output_type": "execute_result"
    },
    {
     "data": {
      "image/png": "[encoded data removed]",
      "text/plain": [
       "<Figure size 432x288 with 1 Axes>"
      ]
     },
     "metadata": {},
     "output_type": "display_data"
    }
   ],
   "source": [
    "# check target variable distribution\n",
    "df['Deceased'].value_counts().plot(kind='bar', color = [palette[1], palette[0]])"
   ]
  },
  {
   "cell_type": "code",
   "execution_count": 26,
   "metadata": {
    "ExecuteTime": {
     "end_time": "2020-04-27T16:40:35.576586Z",
     "start_time": "2020-04-27T16:40:35.564619Z"
    }
   },
   "outputs": [
    {
     "name": "stdout",
     "output_type": "stream",
     "text": [
      "1    61.58\n",
      "0    38.42\n",
      "Name: Deceased, dtype: float64\n"
     ]
    }
   ],
   "source": [
    "# check exact target distrubtion (in %)\n",
    "print(round(df['Deceased'].value_counts()/df['Deceased'].count()*100, 2))"
   ]
  },
  {
   "cell_type": "code",
   "execution_count": 27,
   "metadata": {
    "ExecuteTime": {
     "end_time": "2020-04-27T16:40:35.964587Z",
     "start_time": "2020-04-27T16:40:35.682304Z"
    }
   },
   "outputs": [
    {
     "data": {
      "text/plain": [
       "1    664\n",
       "2     10\n",
       "Name: City, dtype: int64"
      ]
     },
     "execution_count": 27,
     "metadata": {},
     "output_type": "execute_result"
    }
   ],
   "source": [
    "# Check if family members live all in same city: MOSTLY TRUE\n",
    "df[[\"Family_Case_ID\", \"City\"]].groupby(\"Family_Case_ID\").agg({\"City\": lambda x: len(x.unique())})[\"City\"].value_counts()"
   ]
  },
  {
   "cell_type": "code",
   "execution_count": 28,
   "metadata": {
    "ExecuteTime": {
     "end_time": "2020-04-27T16:40:36.068302Z",
     "start_time": "2020-04-27T16:40:36.052314Z"
    }
   },
   "outputs": [
    {
     "data": {
      "text/html": [
       "<div>\n",
       "<style scoped>\n",
       "    .dataframe tbody tr th:only-of-type {\n",
       "        vertical-align: middle;\n",
       "    }\n",
       "\n",
       "    .dataframe tbody tr th {\n",
       "        vertical-align: top;\n",
       "    }\n",
       "\n",
       "    .dataframe thead th {\n",
       "        text-align: right;\n",
       "    }\n",
       "</style>\n",
       "<table border=\"1\" class=\"dataframe\">\n",
       "  <thead>\n",
       "    <tr style=\"text-align: right;\">\n",
       "      <th></th>\n",
       "      <th>Family_Case_ID</th>\n",
       "      <th>Severity</th>\n",
       "      <th>Gender</th>\n",
       "      <th>Birthday_year</th>\n",
       "      <th>Parents or siblings infected</th>\n",
       "      <th>Wife/Husband or children infected</th>\n",
       "      <th>Medical_Expenses_Family</th>\n",
       "      <th>Medical_Tent</th>\n",
       "      <th>City</th>\n",
       "      <th>Deceased</th>\n",
       "    </tr>\n",
       "    <tr>\n",
       "      <th>Patient_ID</th>\n",
       "      <th></th>\n",
       "      <th></th>\n",
       "      <th></th>\n",
       "      <th></th>\n",
       "      <th></th>\n",
       "      <th></th>\n",
       "      <th></th>\n",
       "      <th></th>\n",
       "      <th></th>\n",
       "      <th></th>\n",
       "    </tr>\n",
       "  </thead>\n",
       "  <tbody>\n",
       "  </tbody>\n",
       "</table>\n",
       "</div>"
      ],
      "text/plain": [
       "Empty DataFrame\n",
       "Columns: [Family_Case_ID, Severity, Gender, Birthday_year, Parents or siblings infected, Wife/Husband or children infected, Medical_Expenses_Family, Medical_Tent, City, Deceased]\n",
       "Index: []"
      ]
     },
     "execution_count": 28,
     "metadata": {},
     "output_type": "execute_result"
    }
   ],
   "source": [
    "# Check if family medical expenses are same for all family members: TRUE\n",
    "# We will transform this feature to ExpensesPerPerson to standardize to patient level\n",
    "df[(df.Family_Case_ID == df.Family_Case_ID) & (df.Medical_Expenses_Family != df.Medical_Expenses_Family )]"
   ]
  },
  {
   "cell_type": "code",
   "execution_count": 29,
   "metadata": {
    "ExecuteTime": {
     "end_time": "2020-04-27T16:40:36.178975Z",
     "start_time": "2020-04-27T16:40:36.161023Z"
    }
   },
   "outputs": [
    {
     "name": "stdout",
     "output_type": "stream",
     "text": [
      "674\n"
     ]
    },
    {
     "data": {
      "text/plain": [
       "1    530\n",
       "2    101\n",
       "3     24\n",
       "4     10\n",
       "7      3\n",
       "6      3\n",
       "5      3\n",
       "Name: Family_Case_ID, dtype: int64"
      ]
     },
     "execution_count": 29,
     "metadata": {},
     "output_type": "execute_result"
    }
   ],
   "source": [
    "# Family sizes\n",
    "print(len(df.Family_Case_ID.unique()))\n",
    "family_sizes = pd.Series(df.Family_Case_ID.value_counts())\n",
    "family_sizes.value_counts()"
   ]
  },
  {
   "cell_type": "code",
   "execution_count": 30,
   "metadata": {
    "ExecuteTime": {
     "end_time": "2020-04-27T16:40:36.299681Z",
     "start_time": "2020-04-27T16:40:36.286687Z"
    }
   },
   "outputs": [
    {
     "data": {
      "text/plain": [
       "14502    7\n",
       "20586    7\n",
       "18593    7\n",
       "23426    6\n",
       "10262    6\n",
       "        ..\n",
       "5206     1\n",
       "3535     1\n",
       "23183    1\n",
       "23178    1\n",
       "21504    1\n",
       "Name: Family_Case_ID, Length: 674, dtype: int64"
      ]
     },
     "execution_count": 30,
     "metadata": {},
     "output_type": "execute_result"
    }
   ],
   "source": [
    "family_sizes"
   ]
  },
  {
   "cell_type": "code",
   "execution_count": 27,
   "metadata": {},
   "outputs": [
    {
     "name": "stdout",
     "output_type": "stream",
     "text": [
      "0    501\n",
      "1     18\n",
      "2     10\n",
      "3      1\n",
      "Name: Parents or siblings infected, dtype: int64\n",
      "0    468\n",
      "1     55\n",
      "2      6\n",
      "4      1\n",
      "Name: Wife/Husband or children infected, dtype: int64\n"
     ]
    }
   ],
   "source": [
    "# Check if patient with unique family case ID hase infected family members: TRUE\n",
    "# We have to consider this when we create AvgSeverityOfOtherFamilyMembers and ProportionDeceasedOtherFamilyMembers \n",
    "familycase_singles = family_sizes[family_sizes == 1].index.values\n",
    "print(df.loc[df.Family_Case_ID.isin(familycase_singles), \"Parents or siblings infected\"].value_counts())\n",
    "print(df.loc[df.Family_Case_ID.isin(familycase_singles),  \"Wife/Husband or children infected\" ].value_counts())"
   ]
  },
  {
   "cell_type": "markdown",
   "metadata": {},
   "source": [
    "## 2.2 Encoding\n",
    "\n",
    "We are one-hot encoding the categorical variables `Medical_Tent` and `City`."
   ]
  },
  {
   "cell_type": "code",
   "execution_count": 33,
   "metadata": {
    "ExecuteTime": {
     "end_time": "2020-04-27T16:41:52.866165Z",
     "start_time": "2020-04-27T16:41:52.739500Z"
    }
   },
   "outputs": [],
   "source": [
    "# reset index to avoid issues in further joins\n",
    "df.reset_index(inplace = True)\n",
    "\n",
    "# define columns with categorical variables\n",
    "cat_columns = ['Medical_Tent', 'City', 'Gender']\n",
    "\n",
    "# create new dataframe with numerical columns only\n",
    "df_label_encoded = df[df.columns[~df.columns.isin(cat_columns)]].copy()\n",
    "\n",
    "# will be used as final encoded dataframe\n",
    "df_encoded = df.copy()\n",
    "\n",
    "# For each categorical column we fit a label encoder, then one-hot encode that column, \n",
    "# and append the new columns to our dataframe\n",
    "\n",
    "label_encoders = {}\n",
    "ohe_encoders = {}\n",
    "\n",
    "for col in cat_columns:\n",
    "    #print(\"Encoding {}\".format(col))\n",
    "    new_le = preprocessing.LabelEncoder()\n",
    "    df_label_encoded[col] = new_le.fit_transform(df[col])\n",
    "    label_encoders[col] = new_le\n",
    "    \n",
    "    new_ohe = tent_ohe = preprocessing.OneHotEncoder()\n",
    "    x = new_ohe.fit_transform(df[col].values.reshape(-1,1)).toarray()\n",
    "    \n",
    "    df_onehot = pd.DataFrame(x, columns = [col +str(label_encoders[col].classes_[i]) for i in range(x.shape[1])])\n",
    "    df_encoded = pd.concat([df_encoded, df_onehot], axis=1)"
   ]
  },
  {
   "cell_type": "code",
   "execution_count": 29,
   "metadata": {},
   "outputs": [
    {
     "data": {
      "text/html": [
       "<div>\n",
       "<style scoped>\n",
       "    .dataframe tbody tr th:only-of-type {\n",
       "        vertical-align: middle;\n",
       "    }\n",
       "\n",
       "    .dataframe tbody tr th {\n",
       "        vertical-align: top;\n",
       "    }\n",
       "\n",
       "    .dataframe thead th {\n",
       "        text-align: right;\n",
       "    }\n",
       "</style>\n",
       "<table border=\"1\" class=\"dataframe\">\n",
       "  <thead>\n",
       "    <tr style=\"text-align: right;\">\n",
       "      <th></th>\n",
       "      <th>Patient_ID</th>\n",
       "      <th>Family_Case_ID</th>\n",
       "      <th>Severity</th>\n",
       "      <th>Gender</th>\n",
       "      <th>Birthday_year</th>\n",
       "      <th>Parents or siblings infected</th>\n",
       "      <th>Wife/Husband or children infected</th>\n",
       "      <th>Medical_Expenses_Family</th>\n",
       "      <th>Medical_Tent</th>\n",
       "      <th>City</th>\n",
       "      <th>...</th>\n",
       "      <th>Medical_TentE</th>\n",
       "      <th>Medical_TentF</th>\n",
       "      <th>Medical_TentG</th>\n",
       "      <th>Medical_TentT</th>\n",
       "      <th>Medical_Tentn/a</th>\n",
       "      <th>CityAlbuquerque</th>\n",
       "      <th>CitySanta Fe</th>\n",
       "      <th>CityTaos</th>\n",
       "      <th>GenderF</th>\n",
       "      <th>GenderM</th>\n",
       "    </tr>\n",
       "  </thead>\n",
       "  <tbody>\n",
       "    <tr>\n",
       "      <th>0</th>\n",
       "      <td>1</td>\n",
       "      <td>4696</td>\n",
       "      <td>3</td>\n",
       "      <td>F</td>\n",
       "      <td>-1.0</td>\n",
       "      <td>0</td>\n",
       "      <td>0</td>\n",
       "      <td>225</td>\n",
       "      <td>n/a</td>\n",
       "      <td>Santa Fe</td>\n",
       "      <td>...</td>\n",
       "      <td>0.0</td>\n",
       "      <td>0.0</td>\n",
       "      <td>0.0</td>\n",
       "      <td>0.0</td>\n",
       "      <td>1.0</td>\n",
       "      <td>0.0</td>\n",
       "      <td>1.0</td>\n",
       "      <td>0.0</td>\n",
       "      <td>1.0</td>\n",
       "      <td>0.0</td>\n",
       "    </tr>\n",
       "    <tr>\n",
       "      <th>1</th>\n",
       "      <td>2</td>\n",
       "      <td>21436</td>\n",
       "      <td>1</td>\n",
       "      <td>F</td>\n",
       "      <td>1966.0</td>\n",
       "      <td>0</td>\n",
       "      <td>1</td>\n",
       "      <td>1663</td>\n",
       "      <td>n/a</td>\n",
       "      <td>Albuquerque</td>\n",
       "      <td>...</td>\n",
       "      <td>0.0</td>\n",
       "      <td>0.0</td>\n",
       "      <td>0.0</td>\n",
       "      <td>0.0</td>\n",
       "      <td>1.0</td>\n",
       "      <td>1.0</td>\n",
       "      <td>0.0</td>\n",
       "      <td>0.0</td>\n",
       "      <td>1.0</td>\n",
       "      <td>0.0</td>\n",
       "    </tr>\n",
       "    <tr>\n",
       "      <th>2</th>\n",
       "      <td>3</td>\n",
       "      <td>7273</td>\n",
       "      <td>3</td>\n",
       "      <td>M</td>\n",
       "      <td>1982.0</td>\n",
       "      <td>0</td>\n",
       "      <td>0</td>\n",
       "      <td>221</td>\n",
       "      <td>n/a</td>\n",
       "      <td>Santa Fe</td>\n",
       "      <td>...</td>\n",
       "      <td>0.0</td>\n",
       "      <td>0.0</td>\n",
       "      <td>0.0</td>\n",
       "      <td>0.0</td>\n",
       "      <td>1.0</td>\n",
       "      <td>0.0</td>\n",
       "      <td>1.0</td>\n",
       "      <td>0.0</td>\n",
       "      <td>0.0</td>\n",
       "      <td>1.0</td>\n",
       "    </tr>\n",
       "    <tr>\n",
       "      <th>3</th>\n",
       "      <td>4</td>\n",
       "      <td>8226</td>\n",
       "      <td>3</td>\n",
       "      <td>M</td>\n",
       "      <td>1997.0</td>\n",
       "      <td>0</td>\n",
       "      <td>0</td>\n",
       "      <td>220</td>\n",
       "      <td>n/a</td>\n",
       "      <td>Santa Fe</td>\n",
       "      <td>...</td>\n",
       "      <td>0.0</td>\n",
       "      <td>0.0</td>\n",
       "      <td>0.0</td>\n",
       "      <td>0.0</td>\n",
       "      <td>1.0</td>\n",
       "      <td>0.0</td>\n",
       "      <td>1.0</td>\n",
       "      <td>0.0</td>\n",
       "      <td>0.0</td>\n",
       "      <td>1.0</td>\n",
       "    </tr>\n",
       "    <tr>\n",
       "      <th>4</th>\n",
       "      <td>5</td>\n",
       "      <td>19689</td>\n",
       "      <td>3</td>\n",
       "      <td>F</td>\n",
       "      <td>1994.0</td>\n",
       "      <td>0</td>\n",
       "      <td>0</td>\n",
       "      <td>222</td>\n",
       "      <td>n/a</td>\n",
       "      <td>Santa Fe</td>\n",
       "      <td>...</td>\n",
       "      <td>0.0</td>\n",
       "      <td>0.0</td>\n",
       "      <td>0.0</td>\n",
       "      <td>0.0</td>\n",
       "      <td>1.0</td>\n",
       "      <td>0.0</td>\n",
       "      <td>1.0</td>\n",
       "      <td>0.0</td>\n",
       "      <td>1.0</td>\n",
       "      <td>0.0</td>\n",
       "    </tr>\n",
       "  </tbody>\n",
       "</table>\n",
       "<p>5 rows × 25 columns</p>\n",
       "</div>"
      ],
      "text/plain": [
       "   Patient_ID  Family_Case_ID  Severity Gender  Birthday_year  \\\n",
       "0           1            4696         3      F           -1.0   \n",
       "1           2           21436         1      F         1966.0   \n",
       "2           3            7273         3      M         1982.0   \n",
       "3           4            8226         3      M         1997.0   \n",
       "4           5           19689         3      F         1994.0   \n",
       "\n",
       "   Parents or siblings infected  Wife/Husband or children infected  \\\n",
       "0                             0                                  0   \n",
       "1                             0                                  1   \n",
       "2                             0                                  0   \n",
       "3                             0                                  0   \n",
       "4                             0                                  0   \n",
       "\n",
       "   Medical_Expenses_Family Medical_Tent         City  ...  Medical_TentE  \\\n",
       "0                      225          n/a     Santa Fe  ...            0.0   \n",
       "1                     1663          n/a  Albuquerque  ...            0.0   \n",
       "2                      221          n/a     Santa Fe  ...            0.0   \n",
       "3                      220          n/a     Santa Fe  ...            0.0   \n",
       "4                      222          n/a     Santa Fe  ...            0.0   \n",
       "\n",
       "   Medical_TentF  Medical_TentG  Medical_TentT  Medical_Tentn/a  \\\n",
       "0            0.0            0.0            0.0              1.0   \n",
       "1            0.0            0.0            0.0              1.0   \n",
       "2            0.0            0.0            0.0              1.0   \n",
       "3            0.0            0.0            0.0              1.0   \n",
       "4            0.0            0.0            0.0              1.0   \n",
       "\n",
       "   CityAlbuquerque  CitySanta Fe  CityTaos  GenderF  GenderM  \n",
       "0              0.0           1.0       0.0      1.0      0.0  \n",
       "1              1.0           0.0       0.0      1.0      0.0  \n",
       "2              0.0           1.0       0.0      0.0      1.0  \n",
       "3              0.0           1.0       0.0      0.0      1.0  \n",
       "4              0.0           1.0       0.0      1.0      0.0  \n",
       "\n",
       "[5 rows x 25 columns]"
      ]
     },
     "execution_count": 29,
     "metadata": {},
     "output_type": "execute_result"
    }
   ],
   "source": [
    "df_encoded.head()"
   ]
  },
  {
   "cell_type": "code",
   "execution_count": 30,
   "metadata": {},
   "outputs": [],
   "source": [
    "# exclude the categorical columns\n",
    "df_encoded = df_encoded[df_encoded.columns[~df_encoded.columns.isin(cat_columns)]]\n",
    "\n",
    "# change Gender to one binary column instead of two dummies \n",
    "df_encoded.drop('GenderF', axis = 1, inplace = True)\n",
    "df_encoded.rename(columns = {'GenderM': 'Male'}, inplace = True)"
   ]
  },
  {
   "cell_type": "markdown",
   "metadata": {},
   "source": [
    "## 2.3 Feature Engineering\n",
    "\n",
    "Usnig the `Family_Case_ID`, we are deriving the `AvgSeverityOfOtherFamilyMembers` as well as the `ProportionDeceasedOtherFamilyMembers`. "
   ]
  },
  {
   "cell_type": "code",
   "execution_count": 31,
   "metadata": {},
   "outputs": [],
   "source": [
    "# Average Severity of other family members, excluding patient\n",
    "df_encoded[\"AvgSeverityOfOtherFamilyMembers\"] = [\n",
    "    df_encoded[(df_encoded.Family_Case_ID == df_encoded.loc[pid, \"Family_Case_ID\"]) & (~df_encoded.index.isin([pid]))].Severity.mean() #family members\n",
    "    if df_encoded.loc[pid, \"Family_Case_ID\"] not in familycase_singles\n",
    "    else df_encoded.Severity.mean() # singles with infected family members\n",
    "    if df_encoded.loc[pid, [\"Parents or siblings infected\",\"Wife/Husband or children infected\"]].sum() > 0\n",
    "    else 0 # singles with no infected family members                     \n",
    "    for pid in df_encoded.index.values]\n",
    "\n",
    "# Proportion deceased of other family members, excluding patient\n",
    "df_encoded[\"ProportionDeceasedOtherFamilyMembers\"] = [\n",
    "    df_encoded[(df_encoded.Family_Case_ID == df_encoded.loc[pid, \"Family_Case_ID\"]) & (~df_encoded.index.isin([pid]))].Deceased.mean() #family members\n",
    "    if df_encoded.loc[pid, \"Family_Case_ID\"] not in familycase_singles\n",
    "    else df_encoded.Deceased.mean() # singles with infected family members\n",
    "    if df_encoded.loc[pid, [\"Parents or siblings infected\",\"Wife/Husband or children infected\"]].sum() > 0\n",
    "    else 0 # singles with no infected family members                     \n",
    "    for pid in df_encoded.index.values]"
   ]
  },
  {
   "cell_type": "code",
   "execution_count": 32,
   "metadata": {},
   "outputs": [
    {
     "name": "stdout",
     "output_type": "stream",
     "text": [
      "0.000000    450\n",
      "3.000000    165\n",
      "1.000000    114\n",
      "2.000000     85\n",
      "2.316258     80\n",
      "1.250000      4\n",
      "Name: AvgSeverityOfOtherFamilyMembers, dtype: int64\n",
      "0.000000    604\n",
      "1.000000    158\n",
      "0.615813     80\n",
      "0.500000     31\n",
      "0.333333     16\n",
      "0.666667      5\n",
      "0.166667      2\n",
      "0.750000      2\n",
      "Name: ProportionDeceasedOtherFamilyMembers, dtype: int64\n"
     ]
    }
   ],
   "source": [
    "print(df_encoded[\"AvgSeverityOfOtherFamilyMembers\"].value_counts())\n",
    "print(df_encoded[\"ProportionDeceasedOtherFamilyMembers\"].value_counts())"
   ]
  },
  {
   "cell_type": "code",
   "execution_count": 35,
   "metadata": {
    "ExecuteTime": {
     "end_time": "2020-04-27T16:45:03.546361Z",
     "start_time": "2020-04-27T16:44:59.200980Z"
    }
   },
   "outputs": [],
   "source": [
    "df_encoded[\"family_size\"] = [df_encoded.Family_Case_ID.value_counts()[fid] for fid in df_encoded.Family_Case_ID.values]"
   ]
  },
  {
   "cell_type": "code",
   "execution_count": 36,
   "metadata": {
    "ExecuteTime": {
     "end_time": "2020-04-27T16:45:09.559929Z",
     "start_time": "2020-04-27T16:45:09.545965Z"
    }
   },
   "outputs": [],
   "source": [
    "# set patient ID as index, as we don't need the feature but might want to keep the information\n",
    "df_encoded.set_index('Patient_ID', inplace = True)"
   ]
  },
  {
   "cell_type": "markdown",
   "metadata": {},
   "source": [
    "## 2.4 Feature Selection\n",
    "### 2.4.1 Recursive Feature Elimination (RFE)"
   ]
  },
  {
   "cell_type": "code",
   "execution_count": 34,
   "metadata": {},
   "outputs": [],
   "source": [
    "data = df_encoded.drop('Deceased', axis = 1)\n",
    "target = df_encoded['Deceased']"
   ]
  },
  {
   "cell_type": "markdown",
   "metadata": {},
   "source": [
    "We first need to define the optimal number of variables to keep. We do this by iterating through all possibilities and checking for which number of variables the score was the highest. "
   ]
  },
  {
   "cell_type": "code",
   "execution_count": 35,
   "metadata": {},
   "outputs": [
    {
     "name": "stdout",
     "output_type": "stream",
     "text": [
      "Optimum number of features: 4\n",
      "Score with 4 features: 0.825926\n"
     ]
    }
   ],
   "source": [
    "#no of features\n",
    "nof_list = np.arange(1, len(df_encoded.columns.values))            \n",
    "high_score = 0\n",
    "#Variable to store the optimum features\n",
    "nof = 0           \n",
    "score_list =[]\n",
    "for n in range(len(nof_list)):\n",
    "    # we are going to see in the next class this \"train_test_split()\"...\n",
    "    X_train, X_test, y_train, y_test = train_test_split(data,target, test_size = 0.3, random_state = 0)\n",
    "    \n",
    "    model = LogisticRegression()\n",
    "    rfe = RFE(model,nof_list[n])\n",
    "    X_train_rfe = rfe.fit_transform(X_train,y_train)\n",
    "    X_test_rfe = rfe.transform(X_test)\n",
    "    model.fit(X_train_rfe,y_train)\n",
    "    \n",
    "    score = model.score(X_test_rfe,y_test)\n",
    "    score_list.append(score)\n",
    "    \n",
    "    if(score>high_score):\n",
    "        high_score = score\n",
    "        nof = nof_list[n]\n",
    "print(\"Optimum number of features: %d\" %nof)\n",
    "print(\"Score with %d features: %f\" % (nof, high_score))"
   ]
  },
  {
   "cell_type": "code",
   "execution_count": 36,
   "metadata": {},
   "outputs": [],
   "source": [
    "rfe = RFE(estimator = model, n_features_to_select = 4)\n",
    "X_rfe = rfe.fit_transform(X = data, y = target) "
   ]
  },
  {
   "cell_type": "code",
   "execution_count": 37,
   "metadata": {},
   "outputs": [
    {
     "data": {
      "text/plain": [
       "Family_Case_ID                          False\n",
       "Severity                                 True\n",
       "Birthday_year                           False\n",
       "Parents or siblings infected            False\n",
       "Wife/Husband or children infected       False\n",
       "Medical_Expenses_Family                 False\n",
       "Medical_TentA                           False\n",
       "Medical_TentB                           False\n",
       "Medical_TentC                           False\n",
       "Medical_TentD                           False\n",
       "Medical_TentE                           False\n",
       "Medical_TentF                            True\n",
       "Medical_TentG                           False\n",
       "Medical_TentT                           False\n",
       "Medical_Tentn/a                         False\n",
       "CityAlbuquerque                         False\n",
       "CitySanta Fe                            False\n",
       "CityTaos                                False\n",
       "Male                                     True\n",
       "AvgSeverityOfOtherFamilyMembers         False\n",
       "ProportionDeceasedOtherFamilyMembers     True\n",
       "dtype: bool"
      ]
     },
     "execution_count": 37,
     "metadata": {},
     "output_type": "execute_result"
    }
   ],
   "source": [
    "rfe_selected_features = pd.Series(rfe.support_, index = data.columns)\n",
    "rfe_selected_features"
   ]
  },
  {
   "cell_type": "markdown",
   "metadata": {},
   "source": [
    "The RFE method suggests that we only keep four features, namely `Severity`, `Medical_TentF`, `Male`, and `ProportionDeceasedOtherFamilyMembers`.<br>"
   ]
  },
  {
   "cell_type": "markdown",
   "metadata": {},
   "source": [
    "## 2.2 Step Forward Feature Selection\n",
    "In this approach we are ussing a Lasso Regression to calculate the importance of each feature, and then plot it in a graph. "
   ]
  },
  {
   "cell_type": "code",
   "execution_count": 38,
   "metadata": {},
   "outputs": [],
   "source": [
    "#!pip install mlxtend\n",
    "from mlxtend.feature_selection import SequentialFeatureSelector"
   ]
  },
  {
   "cell_type": "code",
   "execution_count": null,
   "metadata": {
    "scrolled": true
   },
   "outputs": [],
   "source": [
    "# Build RF classifier to use in feature selection\n",
    "clf = LogisticRegression()\n",
    "\n",
    "# Build step forward feature selection\n",
    "high_score = 0 \n",
    "nof = 0\n",
    "score_list =[]\n",
    "\n",
    "for x in range(len(nof_list)):\n",
    "    sfs = SequentialFeatureSelector(clf,\n",
    "               k_features=int(nof_list[x]),\n",
    "               forward=True,\n",
    "               floating=False,\n",
    "               verbose=1,\n",
    "               n_jobs = -1,\n",
    "               scoring='accuracy',\n",
    "               cv=5)\n",
    "    sfs.fit(X_train, y_train)\n",
    "    \n",
    "    score = sfs.k_score_\n",
    "    score_list.append([nof_list[x], score])\n",
    "    \n",
    "    if(score>high_score):\n",
    "        high_score = score\n",
    "        nof = nof_list[x]\n",
    "        "
   ]
  },
  {
   "cell_type": "code",
   "execution_count": 40,
   "metadata": {},
   "outputs": [
    {
     "name": "stdout",
     "output_type": "stream",
     "text": [
      "Optimum number of features: 5\n",
      "Score with 5 features: 0.824889\n"
     ]
    }
   ],
   "source": [
    "print(\"Optimum number of features: %d\" %nof)\n",
    "print(\"Score with %d features: %f\" % (nof, high_score))"
   ]
  },
  {
   "cell_type": "markdown",
   "metadata": {},
   "source": [
    "# 3. Modeling"
   ]
  },
  {
   "cell_type": "code",
   "execution_count": null,
   "metadata": {},
   "outputs": [],
   "source": [
    "#Scaling\n",
    "scale_type = \"StandardScaler\"\n",
    "if scale_type == \"RobustScaler\":\n",
    "    robust = RobustScaler().fit(X_train)\n",
    "    X_train = robust.transform(X_train)\n",
    "    X_test = robust.transform(X_test)\n",
    "    return X_train, X_test,y_train,y_test\n",
    "elif scale_type == \"MinMaxScaler\":\n",
    "    minmax = MinMaxScaler().fit(X_train)\n",
    "    X_train = minmax.transform(X_train)\n",
    "    X_test = minmax.transform(X_test)\n",
    "    return X_train, X_test,y_train,y_test\n",
    "elif scale_type == \"StandardScaler\":\n",
    "    scaler = StandardScaler().fit(X_train)\n",
    "    X_train = scaler.transform(X_train)\n",
    "    X_test = scaler.transform(X_test)\n",
    "    return X_train, X_test,y_train,y_test\n"
   ]
  },
  {
   "cell_type": "markdown",
   "metadata": {},
   "source": [
    "#### Hyperparameter tuning"
   ]
  },
  {
   "cell_type": "code",
   "execution_count": null,
   "metadata": {},
   "outputs": [],
   "source": [
    "#MLP \n",
    "#Solver=\"sgd\"\n",
    "def objective(trial):\n",
    "\n",
    "    n_layers = trial.suggest_int('n_layers', 1, 5)\n",
    "    layers = []\n",
    "    for i in range(n_layers):\n",
    "        layers.append(trial.suggest_int(f'n_units_{i}', 1, 50))\n",
    "    \n",
    "    af = trial.suggest_categorical(\"activation\", [\"tanh\", \"logistic\", \"relu\"])\n",
    "    alpha = trial.suggest_float(\"alpha\", 0.0001, 0.01)\n",
    "    max_iter = trial.suggest_int(\"max_iter\", 100, 400)\n",
    "    power_t = trial.suggest_float(\"power_t\", 0.05,0.95)\n",
    "    nn_learning_rate_init =  trial.suggest_float('learning_rate_init', 10e-4, 10e-2)\n",
    "    batch_size = trial.suggest_categorical(\"batch_size\", [32,64,128,256,512]),\n",
    "    learning_rate = trial.suggest_categorical(\"learning_rate\", [\"constant\", \"invscaling\", \"adaptive\"]),\n",
    "    shuffle = trial.suggest_categorical(\"shuffle\", [True, False]),\n",
    "    tol = trial.suggest_float('tol', 0.00001, 0.001),\n",
    "    momentum = trial.suggest_float(\"momentum\",0.1,0.9),\n",
    "    nesterovs_momentum = trial.suggest_categorical(\"nesterovs_momentum\", [True, False]),\n",
    "    early_stopping = trial.suggest_categorical(\"early_stopping\", [True, False]),\n",
    "    n_iter_no_change = trial.suggest_int(\"n_iter_no_change\",5,40),\n",
    "                                                                \n",
    "    clf = MLPClassifier(hidden_layer_sizes=tuple(layers),\n",
    "                       activation=af,\n",
    "                        solver=\"sgd\",\n",
    "                        learning_rate_init=nn_learning_rate_init,\n",
    "                        alpha=alpha,\n",
    "                        max_iter=max_iter,\n",
    "                        power_t = power_t,\n",
    "                        batch_size=batch_size[0],\n",
    "                        learning_rate=learning_rate[0],\n",
    "                        shuffle=shuffle[0],\n",
    "                        momentum=momentum[0],\n",
    "                        nesterovs_momentum=nesterovs_momentum[0],\n",
    "                        early_stopping=early_stopping[0],\n",
    "                        n_iter_no_change=n_iter_no_change[0],\n",
    "                        random_state=1\n",
    "                       )\n",
    "    #print(clf)\n",
    "    score = cross_val_score(clf, X_train, y_train, n_jobs=-1, cv=8, scoring=\"accuracy\")\n",
    "    print(score)\n",
    "    score = score.mean()\n",
    "    return score\n",
    "\n",
    "is_training = False\n",
    "if is_training:\n",
    "    study_sgd = optuna.create_study(direction='maximize')\n",
    "    study_sgd.optimize(objective, n_trials=100, n_jobs=-1)"
   ]
  },
  {
   "cell_type": "code",
   "execution_count": 2,
   "metadata": {
    "ExecuteTime": {
     "end_time": "2020-04-27T15:27:27.852077Z",
     "start_time": "2020-04-27T15:27:27.788076Z"
    }
   },
   "outputs": [],
   "source": [
    "#solver=\"lbfgs\"\n",
    "def objective(trial):\n",
    "\n",
    "    n_layers = trial.suggest_int('n_layers', 1, 5)\n",
    "    layers = []\n",
    "    for i in range(n_layers):\n",
    "        layers.append(trial.suggest_int(f'n_units_{i}', 1, 50))\n",
    "    \n",
    "    af = trial.suggest_categorical(\"activation\", [\"tanh\", \"logistic\", \"relu\"])\n",
    "    alpha = trial.suggest_float(\"alpha\", 0.0001, 0.02)\n",
    "    max_iter = trial.suggest_int(\"max_iter\", 100, 400)\n",
    "   \n",
    "                                                                \n",
    "    clf = MLPClassifier(hidden_layer_sizes=tuple(layers),\n",
    "                       activation=af,\n",
    "                        solver=\"lbfgs\",\n",
    "                        alpha=alpha,\n",
    "                        max_iter=max_iter,\n",
    "                        random_state=1\n",
    "                       )\n",
    "    score = cross_val_score(clf, X_train, y_train, n_jobs=-1, cv=8, scoring=\"accuracy\")\n",
    "    print(score)\n",
    "    score = score.mean()\n",
    "    return score\n",
    "\n",
    "is_training = False\n",
    "if is_training:\n",
    "    study_lbfgs = optuna.create_study(direction='maximize')\n",
    "    study_lbfgs.optimize(objective, n_trials=100, n_jobs=-1)"
   ]
  },
  {
   "cell_type": "code",
   "execution_count": null,
   "metadata": {},
   "outputs": [],
   "source": [
    "#solver=\"adam\"\n",
    "def objective(trial):\n",
    "\n",
    "    n_layers = trial.suggest_int('n_layers', 1, 5)\n",
    "    layers = []\n",
    "    for i in range(n_layers):\n",
    "        layers.append(trial.suggest_int(f'n_units_{i}', 1, 50))\n",
    "    \n",
    "    af = trial.suggest_categorical(\"activation\", [\"tanh\", \"logistic\", \"relu\"])\n",
    "    alpha = trial.suggest_float(\"alpha\", 0.0001, 0.01)\n",
    "    max_iter = trial.suggest_int(\"max_iter\", 100, 400)\n",
    "    nn_learning_rate_init =  trial.suggest_float('learning_rate_init', 10e-4, 10e-2)\n",
    "    batch_size = trial.suggest_categorical(\"batch_size\", [32,64,128,256,512]),\n",
    "    shuffle = trial.suggest_categorical(\"shuffle\", [True, False]),\n",
    "    tol = trial.suggest_float('tol', 0.00001, 0.001),\n",
    "    early_stopping = trial.suggest_categorical(\"early_stopping\", [True, False]),\n",
    "    epsilon = trial.suggest_float('epsilon', 0.000000001,0.0001 ),\n",
    "    n_iter_no_change = trial.suggest_int(\"n_iter_no_change\",5,40),\n",
    "    beta_1 = trial.suggest_float(\"beta_1\", 0.05,0.99)\n",
    "    beta_2 = trial.suggest_float(\"beta_2\", 0.05,0.99)\n",
    "                                                                \n",
    "    clf = MLPClassifier(hidden_layer_sizes=tuple(layers),\n",
    "                       activation=af,\n",
    "                        solver=\"adam\",\n",
    "                        learning_rate_init=nn_learning_rate_init,\n",
    "                        alpha=alpha,\n",
    "                        max_iter=max_iter,\n",
    "                        batch_size=batch_size[0],\n",
    "                        shuffle=shuffle[0],\n",
    "                        early_stopping=early_stopping[0],\n",
    "                        epsilon=epsilon[0],\n",
    "                        n_iter_no_change=n_iter_no_change[0],\n",
    "                        beta_1=beta_1,\n",
    "                        beta_2 = beta_2,\n",
    "\n",
    "                        random_state=1\n",
    "                       )\n",
    "    score = cross_val_score(clf, X_train, y_train, n_jobs=-1, cv=8, scoring=\"accuracy\")\n",
    "    print(score)\n",
    "    score = score.mean()\n",
    "    return score\n",
    "\n",
    "is_training = False\n",
    "if is_training:\n",
    "    study_adam = optuna.create_study(direction='maximize')\n",
    "    study_adam.optimize(objective, n_trials=100, n_jobs=-1)"
   ]
  },
  {
   "cell_type": "code",
   "execution_count": null,
   "metadata": {},
   "outputs": [],
   "source": [
    "is_training = False\n",
    "if is_training:\n",
    "    df_sgd = study_sgd.trials_dataframe()\n",
    "    df_lbfgs = study_lbfgs.trials_dataframe()\n",
    "    df_adam = study_adam.trials_dataframe()"
   ]
  }
 ],
 "metadata": {
  "kernelspec": {
   "display_name": "Python 3",
   "language": "python",
   "name": "python3"
  },
  "language_info": {
   "codemirror_mode": {
    "name": "ipython",
    "version": 3
   },
   "file_extension": ".py",
   "mimetype": "text/x-python",
   "name": "python",
   "nbconvert_exporter": "python",
   "pygments_lexer": "ipython3",
   "version": "3.7.4"
  },
  "toc": {
   "base_numbering": 1,
   "nav_menu": {},
   "number_sections": true,
   "sideBar": true,
   "skip_h1_title": false,
   "title_cell": "Table of Contents",
   "title_sidebar": "Contents",
   "toc_cell": false,
   "toc_position": {},
   "toc_section_display": true,
   "toc_window_display": false
  },
  "varInspector": {
   "cols": {
    "lenName": 16,
    "lenType": 16,
    "lenVar": 40
   },
   "kernels_config": {
    "python": {
     "delete_cmd_postfix": "",
     "delete_cmd_prefix": "del ",
     "library": "var_list.py",
     "varRefreshCmd": "print(var_dic_list())"
    },
    "r": {
     "delete_cmd_postfix": ") ",
     "delete_cmd_prefix": "rm(",
     "library": "var_list.r",
     "varRefreshCmd": "cat(var_dic_list()) "
    }
   },
   "types_to_exclude": [
    "module",
    "function",
    "builtin_function_or_method",
    "instance",
    "_Feature"
   ],
   "window_display": false
  }
 },
 "nbformat": 4,
 "nbformat_minor": 4
}
